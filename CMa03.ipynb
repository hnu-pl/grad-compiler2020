{
 "cells": [
  {
   "cell_type": "markdown",
   "metadata": {},
   "source": [
    "# 2. Imperative Programming Languages\n",
    "\n",
    "이번엔 전역변수 메모리 할당 및 초기화를 추가해보자. 아직 배열은 문법만 정의하고 다음 기회에 ..."
   ]
  },
  {
   "cell_type": "markdown",
   "metadata": {},
   "source": [
    "---\n",
    "컴파일 타겟이 되는 VM의 단순화된 버전을 하스켈로 구현"
   ]
  },
  {
   "cell_type": "code",
   "execution_count": 28,
   "metadata": {},
   "outputs": [],
   "source": [
    "-- {-# LANGUAGE DeriveFoldable #-}\n",
    "{-# LANGUAGE DeriveFunctor #-}\n",
    "{-# LANGUAGE NoMonomorphismRestriction #-}\n",
    "{-# LANGUAGE FlexibleInstances #-}\n",
    "{-# LANGUAGE FlexibleContexts #-}\n",
    "\n",
    "data Instr pa\n",
    "    = HALT | NEG | ADD | SUB | MUL | DIV\n",
    "    | AND | OR | EQU | NEQ | GR | GEQ | LE | LEQ\n",
    "    | POP | DUP\n",
    "    | LOADc Int | LOAD -- | LOADr | LOADrc\n",
    "    | STORE -- | STOREr\n",
    "    | JUMP pa | JUMPz pa | JUMPi pa\n",
    "    -- | CALL | RETURN | ENTER | ALLOC | SLIDE | MARK\n",
    "    -- | NEW\n",
    "    deriving (Eq, Ord, Show, Functor)\n",
    "\n",
    "type CMa = (Code, Stack)\n",
    "\n",
    "type Stack = [Value]\n",
    "type Value = Int\n",
    "\n",
    "-- stack address as reverse index of stack\n",
    "type SA = Int\n",
    "\n",
    "type Code = [Instr PA]\n",
    "\n",
    "-- program address representation\n",
    "newtype PA = PA Code  deriving (Eq,Ord,Show)"
   ]
  },
  {
   "cell_type": "code",
   "execution_count": 29,
   "metadata": {},
   "outputs": [],
   "source": [
    "import Data.List\n",
    "\n",
    "data DotDotDot = DotDotDot\n",
    "\n",
    "instance Show DotDotDot where\n",
    "    show _ = \"...\"\n",
    "\n",
    "-- to prevent infinite printing\n",
    "instance {-# OVERLAPS #-} Show Code where\n",
    "    show is = \"[\"++intercalate \",\" (show . fmap (\\(PA _) -> DotDotDot) <$> is)++\"]\"\n",
    "\n",
    "-- to prevent infinite printing\n",
    "instance {-# OVERLAPS #-} Show CMa where\n",
    "    show (is,vs) = \"{ stack = \"++show vs++\"\\n , code = \"++show is++\" }\""
   ]
  },
  {
   "cell_type": "code",
   "execution_count": 30,
   "metadata": {},
   "outputs": [],
   "source": [
    "-- load and store operation for Stack\n",
    "load :: SA -> Stack -> Value\n",
    "load i vs = reverse vs !! i\n",
    "\n",
    "store :: SA -> Value -> Stack -> Stack\n",
    "store i x vs = vs1++x:vs2\n",
    "    where\n",
    "    (vs1,_:vs2) = splitAt (length vs - 1 - i) vs"
   ]
  },
  {
   "cell_type": "code",
   "execution_count": 31,
   "metadata": {},
   "outputs": [],
   "source": [
    "import Data.Bits\n",
    "\n",
    "step :: CMa -> CMa\n",
    "step (HALT : _, vs) = ([], vs)\n",
    "step (NEG : is, v : vs) = (is, (-v):vs)\n",
    "step (ADD : is, v2:v1:vs) = (is, v1 + v2 : vs)\n",
    "step (SUB : is, v2:v1:vs) = (is, v1 - v2 : vs)\n",
    "step (MUL : is, v2:v1:vs) = (is, v1 * v2 : vs)\n",
    "step (DIV : is, v2:v1:vs) = (is, v1 `div` v2 : vs)\n",
    "step (AND : is, v2:v1:vs) = (is, (v1 .&. v2) : vs)\n",
    "step (OR  : is, v2:v1:vs) = (is, (v1 .|. v2) : vs)\n",
    "step (EQU : is, v2:v1:vs) = (is, b2i(v1 == v2) : vs)\n",
    "step (NEQ : is, v2:v1:vs) = (is, b2i(v1 /= v2) : vs)\n",
    "step (GR  : is, v2:v1:vs) = (is, b2i(v1 >  v2) : vs)\n",
    "step (GEQ : is, v2:v1:vs) = (is, b2i(v1 >= v2) : vs)\n",
    "step (LE  : is, v2:v1:vs) = (is, b2i(v1 <  v2) : vs)\n",
    "step (LEQ : is, v2:v1:vs) = (is, b2i(v1 <= v2) : vs)\n",
    "step (POP : is, _:vs) = (is, vs)\n",
    "step (DUP : is, v:vs) = (is, v:v:vs)\n",
    "step (LOADc v : is, vs) = (is, v:vs)\n",
    "step (LOAD : is, a:vs) = (is, v:vs) where v = load a vs \n",
    "step (STORE : is, a:n:vs) = (is, n:vs') where vs' = store a n vs\n",
    "step (JUMP  (PA c) : _, vs) = (c, vs)\n",
    "step (JUMPz (PA c) : _, 0:vs) = (c, vs)\n",
    "step (JUMPz _ : is,     _:vs) = (is, vs)\n",
    "step vm = error $ \"VM is stuck: \"++show vm\n",
    "\n",
    "i2b 0 = False\n",
    "i2b 1 = True\n",
    "\n",
    "b2i False = 0\n",
    "b2i True  = 1\n",
    "\n",
    "exec :: CMa -> [CMa]\n",
    "exec vm@([],_) = [vm]\n",
    "exec vm        = vm : exec (step vm)\n",
    "\n",
    "run :: CMa -> CMa\n",
    "run = last . exec"
   ]
  },
  {
   "cell_type": "code",
   "execution_count": 32,
   "metadata": {},
   "outputs": [],
   "source": [
    "type LabeledCode = [LabeledInstr]\n",
    "data LabeledInstr = Label :. Instr Label  deriving Show\n",
    "type Label = String\n",
    "\n",
    "lbis1 :: LabeledCode\n",
    "lbis1 =\n",
    "    [ \"\"     :. LOADc 3\n",
    "    , \"loop\" :. LOADc 1\n",
    "    , \"\"     :. SUB\n",
    "    , \"\"     :. DUP\n",
    "    , \"\"     :. JUMPz \"end\"\n",
    "    , \"\"     :. JUMP \"loop\"\n",
    "    , \"end\"  :. HALT\n",
    "    ]"
   ]
  },
  {
   "cell_type": "code",
   "execution_count": 33,
   "metadata": {},
   "outputs": [],
   "source": [
    "import Data.Maybe\n",
    "\n",
    "assemble :: LabeledCode -> Code\n",
    "assemble lbis = is'\n",
    "    where\n",
    "        is' = map (fmap lb2a) is\n",
    "        (lbs,is) = unzip [(lb,i) | lb :. i <- lbis]\n",
    "        lb2a \"\" = error \"empty string label\"\n",
    "        lb2a lb = PA $ tails is' !! elemIndex' lb lbs\n",
    "\n",
    "elemIndex' x xs = fromJust (elemIndex x xs)"
   ]
  },
  {
   "cell_type": "code",
   "execution_count": 34,
   "metadata": {},
   "outputs": [
    {
     "data": {
      "text/plain": [
       "{ stack = []\n",
       " , code = [LOADc 3,LOADc 1,SUB,DUP,JUMPz ...,JUMP ...,HALT] }\n",
       "{ stack = [3]\n",
       " , code = [LOADc 1,SUB,DUP,JUMPz ...,JUMP ...,HALT] }\n",
       "{ stack = [1,3]\n",
       " , code = [SUB,DUP,JUMPz ...,JUMP ...,HALT] }\n",
       "{ stack = [2]\n",
       " , code = [DUP,JUMPz ...,JUMP ...,HALT] }\n",
       "{ stack = [2,2]\n",
       " , code = [JUMPz ...,JUMP ...,HALT] }\n",
       "{ stack = [2]\n",
       " , code = [JUMP ...,HALT] }\n",
       "{ stack = [2]\n",
       " , code = [LOADc 1,SUB,DUP,JUMPz ...,JUMP ...,HALT] }\n",
       "{ stack = [1,2]\n",
       " , code = [SUB,DUP,JUMPz ...,JUMP ...,HALT] }\n",
       "{ stack = [1]\n",
       " , code = [DUP,JUMPz ...,JUMP ...,HALT] }\n",
       "{ stack = [1,1]\n",
       " , code = [JUMPz ...,JUMP ...,HALT] }\n",
       "{ stack = [1]\n",
       " , code = [JUMP ...,HALT] }\n",
       "{ stack = [1]\n",
       " , code = [LOADc 1,SUB,DUP,JUMPz ...,JUMP ...,HALT] }\n",
       "{ stack = [1,1]\n",
       " , code = [SUB,DUP,JUMPz ...,JUMP ...,HALT] }\n",
       "{ stack = [0]\n",
       " , code = [DUP,JUMPz ...,JUMP ...,HALT] }\n",
       "{ stack = [0,0]\n",
       " , code = [JUMPz ...,JUMP ...,HALT] }\n",
       "{ stack = [0]\n",
       " , code = [HALT] }\n",
       "{ stack = [0]\n",
       " , code = [] }"
      ]
     },
     "metadata": {},
     "output_type": "display_data"
    }
   ],
   "source": [
    "mapM_ print . exec $ (assemble lbis1,[])"
   ]
  },
  {
   "cell_type": "markdown",
   "metadata": {},
   "source": [
    "<br>\n",
    "\n",
    "이제 책 Fig.2.8 (p.13) 에 나온 C언어 코드를 CMa 명령 코드으로 컴파일하는 함수들을 직접 구현해 보자.\n",
    "**식**(expression)을 컴파일하는 `codeR` 및 `codeL`과\n",
    "**문**(statement)을 컴파일하는 `code`를 하스켈로 작성해 보자."
   ]
  },
  {
   "cell_type": "code",
   "execution_count": 38,
   "metadata": {},
   "outputs": [],
   "source": [
    "data Expr\n",
    "    = Lit Int        -- n   (integer literal)\n",
    "    | Var String     -- x\n",
    "    | Arr Expr Expr  -- e1[e2]\n",
    "    | Neg Expr       -- -e\n",
    "    | Add Expr Expr  -- e1 + 2e\n",
    "    | Sub Expr Expr  -- e1 - e2\n",
    "    | Mul Expr Expr  -- e1 * e2\n",
    "    | Div Expr Expr  -- e1 / e2\n",
    "    | And Expr Expr  -- e1 + e2\n",
    "    | Or  Expr Expr  -- e1 || e2\n",
    "    | Equ Expr Expr  -- e1 == e2\n",
    "    | Neq Expr Expr  -- e1 /= e2\n",
    "    | Gr  Expr Expr  -- e1 >  e2\n",
    "    | Geq Expr Expr  -- e1 >= e2\n",
    "    | Le  Expr Expr  -- e1 <= e2\n",
    "    | Leq Expr Expr  -- e1 <  e2\n",
    "    | Assign Expr Expr  -- eL <- eR    (assignment expression. 실제 C문법으로는 eL = eR)\n",
    "    deriving (Eq,Ord,Show)\n",
    "\n",
    "data Stmt\n",
    "    = DStmt Decl                -- int x = e;  선언문 (항상 초기화 포함)\n",
    "    | EStmt Expr                -- e;  (expression as statement)\n",
    "    | Block [Stmt]              -- { s1; ...; sn; }\n",
    "    | If Expr Stmt (Maybe Stmt) -- if (e) s  또는  if (e) s1 else s0\n",
    "    | While Expr Stmt           -- while (e) s\n",
    "    | For (Expr,Expr,Expr) Stmt -- for (e1;e2;e3) s\n",
    "    deriving (Eq,Ord,Show)\n",
    "\n",
    "data Decl\n",
    "    = VDec Ty String Expr   -- int x = e;\n",
    "    | ADec Ty String [Expr] -- int a[n] = {v1,v2,...,vn};\n",
    "    deriving (Eq,Ord,Show)\n",
    "\n",
    "data Ty\n",
    "    = Tint        -- int\n",
    "    | Tarr Ty Int -- int[n]   for simplicity only consider 1-dim int array\n",
    "    deriving (Eq,Ord,Show)"
   ]
  },
  {
   "cell_type": "code",
   "execution_count": 40,
   "metadata": {},
   "outputs": [
    {
     "data": {
      "text/html": [
       "<style>/* Styles used for the Hoogle display in the pager */\n",
       ".hoogle-doc {\n",
       "display: block;\n",
       "padding-bottom: 1.3em;\n",
       "padding-left: 0.4em;\n",
       "}\n",
       ".hoogle-code {\n",
       "display: block;\n",
       "font-family: monospace;\n",
       "white-space: pre;\n",
       "}\n",
       ".hoogle-text {\n",
       "display: block;\n",
       "}\n",
       ".hoogle-name {\n",
       "color: green;\n",
       "font-weight: bold;\n",
       "}\n",
       ".hoogle-head {\n",
       "font-weight: bold;\n",
       "}\n",
       ".hoogle-sub {\n",
       "display: block;\n",
       "margin-left: 0.4em;\n",
       "}\n",
       ".hoogle-package {\n",
       "font-weight: bold;\n",
       "font-style: italic;\n",
       "}\n",
       ".hoogle-module {\n",
       "font-weight: bold;\n",
       "}\n",
       ".hoogle-class {\n",
       "font-weight: bold;\n",
       "}\n",
       ".get-type {\n",
       "color: green;\n",
       "font-weight: bold;\n",
       "font-family: monospace;\n",
       "display: block;\n",
       "white-space: pre-wrap;\n",
       "}\n",
       ".show-type {\n",
       "color: green;\n",
       "font-weight: bold;\n",
       "font-family: monospace;\n",
       "margin-left: 1em;\n",
       "}\n",
       ".mono {\n",
       "font-family: monospace;\n",
       "display: block;\n",
       "}\n",
       ".err-msg {\n",
       "color: red;\n",
       "font-style: italic;\n",
       "font-family: monospace;\n",
       "white-space: pre;\n",
       "display: block;\n",
       "}\n",
       "#unshowable {\n",
       "color: red;\n",
       "font-weight: bold;\n",
       "}\n",
       ".err-msg.in.collapse {\n",
       "padding-top: 0.7em;\n",
       "}\n",
       ".highlight-code {\n",
       "white-space: pre;\n",
       "font-family: monospace;\n",
       "}\n",
       ".suggestion-warning { \n",
       "font-weight: bold;\n",
       "color: rgb(200, 130, 0);\n",
       "}\n",
       ".suggestion-error { \n",
       "font-weight: bold;\n",
       "color: red;\n",
       "}\n",
       ".suggestion-name {\n",
       "font-weight: bold;\n",
       "}\n",
       "</style><div class=\"suggestion-name\" style=\"clear:both;\">Redundant lambda</div><div class=\"suggestion-row\" style=\"float: left;\"><div class=\"suggestion-warning\">Found:</div><div class=\"highlight-code\" id=\"haskell\">c = \\ k ->\n",
       "      codeR e ρ . (JUMPz (PA k) :) . code s ρ . (JUMP (PA (c k)) :) \\$ k</div></div><div class=\"suggestion-row\" style=\"float: left;\"><div class=\"suggestion-warning\">Why Not:</div><div class=\"highlight-code\" id=\"haskell\">c k\n",
       "  = codeR e ρ . (JUMPz (PA k) :) . code s ρ . (JUMP (PA (c k)) :) \\$ k</div></div>"
      ],
      "text/plain": [
       "Line 56: Redundant lambda\n",
       "Found:\n",
       "c = \\ k ->\n",
       "      codeR e ρ . (JUMPz (PA k) :) . code s ρ . (JUMP (PA (c k)) :) $ k\n",
       "Why not:\n",
       "c k\n",
       "  = codeR e ρ . (JUMPz (PA k) :) . code s ρ . (JUMP (PA (c k)) :) $ k"
      ]
     },
     "metadata": {},
     "output_type": "display_data"
    }
   ],
   "source": [
    "import Data.Map (Map, (!), (!?))\n",
    "import qualified Data.Map as Map\n",
    "\n",
    "type AEnv = Map String SA -- 주소환경\n",
    "type TEnv = Map String Ty -- 타입환경\n",
    "\n",
    "codeR :: Expr -> AEnv -> (Code -> Code)\n",
    "codeR (Lit q) _ = (LOADc q :)\n",
    "codeR e@(Var _)   ρ = codeL e ρ . (LOAD :)\n",
    "codeR e@(Arr _ _) ρ = codeL e ρ . (LOAD :)\n",
    "codeR (Neg e) ρ = codeR e ρ . (NEG :)\n",
    "codeR (Add e1 e2) ρ = codeR e1 ρ . codeR e2 ρ . (ADD :)\n",
    "codeR (Sub e1 e2) ρ = codeR e1 ρ . codeR e2 ρ . (SUB :)\n",
    "codeR (Mul e1 e2) ρ = codeR e1 ρ . codeR e2 ρ . (MUL :)\n",
    "codeR (Div e1 e2) ρ = codeR e1 ρ . codeR e2 ρ . (DIV :)\n",
    "codeR (And e1 e2) ρ = codeR e1 ρ . codeR e2 ρ . (AND :)\n",
    "codeR (Or  e1 e2) ρ = codeR e1 ρ . codeR e2 ρ . (OR :)\n",
    "codeR (Equ e1 e2) ρ = codeR e1 ρ . codeR e2 ρ . (EQU :)\n",
    "codeR (Neq e1 e2) ρ = codeR e1 ρ . codeR e2 ρ . (NEQ :)\n",
    "codeR (Gr  e1 e2) ρ = codeR e1 ρ . codeR e2 ρ . (GR :)\n",
    "codeR (Geq e1 e2) ρ = codeR e1 ρ . codeR e2 ρ . (GEQ :)\n",
    "codeR (Le  e1 e2) ρ = codeR e1 ρ . codeR e2 ρ . (LE :)\n",
    "codeR (Leq e1 e2) ρ = codeR e1 ρ . codeR e2 ρ . (LEQ :)\n",
    "codeR (Assign eL eR) ρ = codeR eR ρ . codeL eL ρ . (STORE :)\n",
    "codeR e _ = error $ \"R-value not defined: \"++show e\n",
    "\n",
    "codeL :: Expr -> AEnv -> (Code -> Code)\n",
    "codeL (Var x) ρ = (LOADc (ρ ! x) :)\n",
    "codeL (Arr e1 e2) ρ = codeL e1 ρ . codeR e2 ρ . (ADD :)  -- e1[e2]\n",
    "codeL e _ = error $ \"L-value not defined: \"++show e\n",
    "\n",
    "code :: Stmt -> AEnv -> (Code -> Code)\n",
    "code (DStmt (VDec Tint x e)) ρ = code (EStmt $ Assign (Var x) e) ρ  -- x <- e;\n",
    "code s@(DStmt (ADec (Tarr Tint n) a es)) ρ = -- es는 초기화 식 리스트 {e0,e1,..}\n",
    "    code (Block ss) ρ        -- { a[0] <- e0; a[1] <- e1; ... }\n",
    "    where\n",
    "    ss = zipWith ($) [EStmt . Assign (Arr (Var a) (Lit i)) | i<-[0..n-1]]\n",
    "                     (take n es)\n",
    "code s@(DStmt _) ρ = error $ \"not supported: \"++show s\n",
    "code (EStmt e) ρ = codeR e ρ . (POP :)\n",
    "code (Block ss) ρ = foldr (.) id [code s ρ | s <- ss]\n",
    "code (If e s Nothing) ρ =\n",
    "    \\k -> codeR e ρ . (JUMPz (PA k) :)\n",
    "        . code s ρ\n",
    "        $ k\n",
    "code (If e s1 (Just s0)) ρ =\n",
    "    \\k -> codeR e ρ . (JUMPz (PA (c0 k)) :)\n",
    "        . c1 . (JUMP (PA k) :)\n",
    "        . c0\n",
    "        $ k\n",
    "    where\n",
    "        c1 = code s1 ρ\n",
    "        c0 = code s0 ρ\n",
    "code (While e s) ρ = c\n",
    "    where\n",
    "    c = \\k -> codeR e ρ . (JUMPz (PA k) :)\n",
    "            . code s ρ . (JUMP (PA (c k)) :)\n",
    "            $ k\n",
    "code (For (e1,e2,e3) s) ρ = code (Block ss) ρ\n",
    "    where ss = [ EStmt e1\n",
    "               , While e2 $ Block [s, EStmt e3]\n",
    "               ]"
   ]
  },
  {
   "cell_type": "markdown",
   "metadata": {},
   "source": [
    "프로그램을 컴파일하기 전에 할 때 자동으로 주소환경 $\\rho$를 계산할 수 있다면 지난번 `CMA02.ipynb`에서처럼 수동으로 주소환경을 구성하지 않아도 된다.\n",
    "지금은 일단 전역변수만 있다고 가정하므로 비교적 간단히 주소환경을 계산해낼 수 있다.\n",
    "\n",
    "```c\n",
    "int x = 1000;\n",
    "int i = 1;\n",
    "x <- x + i;\n",
    "int y = x + 100;\n",
    "i <- i + 1;\n",
    "```\n",
    "\n",
    "이전에 아무 변수도 선언되지 않았다면 나타나는 순서대로 스택 주소 0부터 $\\{x\\mapsto 0, i\\mapsto 1, y\\mapsto 2\\}$ 이런 식으로 변수 선언만 훑어내려가면서 주소환경을 만들면 된다.\n",
    "\n",
    "만일 기존에 변수가 예를 들어 두개 선언되어 있고 그에 대한 주소환경이 $\\{w\\mapsto 0, z\\mapsto 1\\}$로 구성되어 있는 상황이었다면,\n",
    "그 이후 스택 주소 2부터 $\\{w\\mapsto 0, z\\mapsto 1, x\\mapsto 2, i\\mapsto 3, y\\mapsto 4\\}$ 이런 식으로 확장된 주소환경을 만들면 된다.\n",
    "\n",
    "이런 방식으로 주소환경을 자동으로 계산하기 위해, 컴파일할 문장(`Stmt`)과 기존의 주소환경(`AEnv`)을 넘겨받아 확장된 주소환경(`AEnv`)을 계산하는 함수 `extend`를 정의하자.\n",
    "이 `extendS` 함수의 핵심 동작은 선언문(declaration statement)인 경우이므로 이 경우를 처리하를 돕는 함수인 `extendD`도 함께 정의한다."
   ]
  },
  {
   "cell_type": "code",
   "execution_count": 41,
   "metadata": {},
   "outputs": [
    {
     "ename": "",
     "evalue": "",
     "header": "MessageHeader {mhIdentifiers = [\"8e854cd8-51e5-4a53-b078-c242b57778e5\"], mhParentHeader = Just (MessageHeader {mhIdentifiers = [\"8e854cd8-51e5-4a53-b078-c242b57778e5\"], mhParentHeader = Nothing, mhMetadata = Metadata (fromList [(\"recordTiming\",Bool False),(\"deletedCells\",Array []),(\"cellId\",String \"60f1009b-3bf6-4271-9669-927961fa5425\")]), mhMessageId = UUID {uuidToString = \"8ba9c464-5be1-4b45-a25e-94374a67dfb4\"}, mhSessionId = UUID {uuidToString = \"8e854cd8-51e5-4a53-b078-c242b57778e5\"}, mhUsername = \"\", mhMsgType = ExecuteRequestMessage, mhBuffers = []}), mhMetadata = Metadata (fromList []), mhMessageId = UUID {uuidToString = \"6a5370db-5f19-4ce5-98bc-23320d5dbc11\"}, mhSessionId = UUID {uuidToString = \"8e854cd8-51e5-4a53-b078-c242b57778e5\"}, mhUsername = \"\", mhMsgType = ExecuteErrorMessage, mhBuffers = []}",
     "output_type": "error",
     "traceback": [
      "<interactive>:10:29: error:\n    • Couldn't match expected type ‘(AEnv, TEnv)’ with actual type ‘Map String a0’\n    • In the expression: Map.insert x nextSA ρ\n      In an equation for ‘extendD’:\n          extendD (VDec Tint x e) ρ\n            = Map.insert x nextSA ρ\n            where\n                nextSA = 1 + maximum ((- 1) : Map.elems ρ)\n<interactive>:10:49: error:\n    • Couldn't match expected type ‘Map String a0’ with actual type ‘(AEnv, TEnv)’\n    • In the third argument of ‘Map.insert’, namely ‘ρ’\n      In the expression: Map.insert x nextSA ρ\n      In an equation for ‘extendD’:\n          extendD (VDec Tint x e) ρ\n            = Map.insert x nextSA ρ\n            where\n                nextSA = 1 + maximum ((- 1) : Map.elems ρ)\n<interactive>:11:50: error:\n    • Couldn't match expected type ‘Map k0 a’ with actual type ‘(AEnv, TEnv)’\n    • In the first argument of ‘Map.elems’, namely ‘ρ’\n      In the second argument of ‘(:)’, namely ‘Map.elems ρ’\n      In the first argument of ‘maximum’, namely ‘((- 1) : Map.elems ρ)’\n    • Relevant bindings include nextSA :: a (bound at <interactive>:11:11)"
     ]
    }
   ],
   "source": [
    "extend :: Stmt -> (AEnv,TEnv) -> (AEnv,TEnv)\n",
    "extend (DStmt d) (ρ,σ) = extendD d (ρ,σ)\n",
    "extend (EStmt _) (ρ,σ) = (ρ,σ)\n",
    "extend (Block ss) (ρ,σ) = foldl (flip extend) (ρ,σ) ss\n",
    "extend (If _ s Nothing) (ρ,σ) = extend s (ρ,σ)\n",
    "extend (If _ s1 (Just s0)) (ρ,σ) = extend s0 (extend s1 (ρ,σ))\n",
    "extend (While _ s) (ρ,σ) = extend s (ρ,σ)\n",
    "extend (For _ s) (ρ,σ) = extend s (ρ,σ)\n",
    "\n",
    "extendD :: Decl -> (AEnv,TEnv) -> (AEnv,TEnv)\n",
    "extendD (VDec Tint x e) (ρ,σ) = ( Map.insert x nextSA ρ, Map.insert x Tint σ)\n",
    "    where nextSA = undefined -- 1 + maximum ((-1) : Map.elems ρ)\n",
    "extendD d@(ADec (Tarr Tint n) a es) ρ = ( Map.insert x nextSA ρ, Map.insert x (Tarr Tint n) σ)\n",
    "    where nextSA = undefined -- 1 +\n",
    "extendD d _ = error $ \"not supported: \"++show d"
   ]
  },
  {
   "cell_type": "code",
   "execution_count": 15,
   "metadata": {},
   "outputs": [],
   "source": [
    "stmt3 = Block \n",
    "    [ DStmt $ VDec Tint \"x\" (Lit 1000)                    -- int x = 1000;\n",
    "    , DStmt $ VDec Tint \"i\" (Lit 1)                       -- int i = 1;\n",
    "    , EStmt $ Assign (Var \"x\") (Add (Var \"x\") (Var \"i\"))  -- x <- x + 1;\n",
    "    , DStmt $ VDec Tint \"y\" (Add (Var \"x\") (Lit 100))     -- int y = x + 100;\n",
    "    , EStmt $ Assign (Var \"i\") (Add (Var \"i\") (Lit 1))    -- i <- i + 1;\n",
    "    ]"
   ]
  },
  {
   "cell_type": "code",
   "execution_count": 17,
   "metadata": {},
   "outputs": [
    {
     "data": {
      "text/plain": [
       "fromList [(\"i\",1),(\"x\",0),(\"y\",2)]"
      ]
     },
     "metadata": {},
     "output_type": "display_data"
    },
    {
     "data": {
      "text/plain": [
       "fromList [(\"i\",3),(\"w\",0),(\"x\",2),(\"y\",4),(\"z\",1)]"
      ]
     },
     "metadata": {},
     "output_type": "display_data"
    }
   ],
   "source": [
    "extend stmt3 Map.empty\n",
    "extend stmt3 $ Map.fromList [(\"w\",0),(\"z\",1)]"
   ]
  },
  {
   "cell_type": "code",
   "execution_count": 18,
   "metadata": {},
   "outputs": [],
   "source": [
    "ρ3 = extend stmt3 Map.empty\n",
    "is3 = code stmt3 ρ3"
   ]
  },
  {
   "cell_type": "code",
   "execution_count": 20,
   "metadata": {},
   "outputs": [
    {
     "data": {
      "text/html": [
       "<style>/* Styles used for the Hoogle display in the pager */\n",
       ".hoogle-doc {\n",
       "display: block;\n",
       "padding-bottom: 1.3em;\n",
       "padding-left: 0.4em;\n",
       "}\n",
       ".hoogle-code {\n",
       "display: block;\n",
       "font-family: monospace;\n",
       "white-space: pre;\n",
       "}\n",
       ".hoogle-text {\n",
       "display: block;\n",
       "}\n",
       ".hoogle-name {\n",
       "color: green;\n",
       "font-weight: bold;\n",
       "}\n",
       ".hoogle-head {\n",
       "font-weight: bold;\n",
       "}\n",
       ".hoogle-sub {\n",
       "display: block;\n",
       "margin-left: 0.4em;\n",
       "}\n",
       ".hoogle-package {\n",
       "font-weight: bold;\n",
       "font-style: italic;\n",
       "}\n",
       ".hoogle-module {\n",
       "font-weight: bold;\n",
       "}\n",
       ".hoogle-class {\n",
       "font-weight: bold;\n",
       "}\n",
       ".get-type {\n",
       "color: green;\n",
       "font-weight: bold;\n",
       "font-family: monospace;\n",
       "display: block;\n",
       "white-space: pre-wrap;\n",
       "}\n",
       ".show-type {\n",
       "color: green;\n",
       "font-weight: bold;\n",
       "font-family: monospace;\n",
       "margin-left: 1em;\n",
       "}\n",
       ".mono {\n",
       "font-family: monospace;\n",
       "display: block;\n",
       "}\n",
       ".err-msg {\n",
       "color: red;\n",
       "font-style: italic;\n",
       "font-family: monospace;\n",
       "white-space: pre;\n",
       "display: block;\n",
       "}\n",
       "#unshowable {\n",
       "color: red;\n",
       "font-weight: bold;\n",
       "}\n",
       ".err-msg.in.collapse {\n",
       "padding-top: 0.7em;\n",
       "}\n",
       ".highlight-code {\n",
       "white-space: pre;\n",
       "font-family: monospace;\n",
       "}\n",
       ".suggestion-warning { \n",
       "font-weight: bold;\n",
       "color: rgb(200, 130, 0);\n",
       "}\n",
       ".suggestion-error { \n",
       "font-weight: bold;\n",
       "color: red;\n",
       "}\n",
       ".suggestion-name {\n",
       "font-weight: bold;\n",
       "}\n",
       "</style><span class='get-type'>is3 :: Code -> Code</span>"
      ],
      "text/plain": [
       "is3 :: Code -> Code"
      ]
     },
     "metadata": {},
     "output_type": "display_data"
    }
   ],
   "source": [
    ":type is3"
   ]
  },
  {
   "cell_type": "code",
   "execution_count": 19,
   "metadata": {},
   "outputs": [
    {
     "data": {
      "text/plain": [
       "fromList [(\"i\",1),(\"x\",0),(\"y\",2)]"
      ]
     },
     "metadata": {},
     "output_type": "display_data"
    }
   ],
   "source": [
    "ρ3"
   ]
  },
  {
   "cell_type": "code",
   "execution_count": 165,
   "metadata": {},
   "outputs": [
    {
     "data": {
      "text/plain": [
       "[LOADc 1000,LOADc 0,STORE,POP,LOADc 1,LOADc 1,STORE,POP,LOADc 0,LOAD,LOADc 1,LOAD,ADD,LOADc 0,STORE,POP,LOADc 0,LOAD,LOADc 100,ADD,LOADc 2,STORE,POP,LOADc 1,LOAD,LOADc 1,ADD,LOADc 1,STORE,POP]"
      ]
     },
     "metadata": {},
     "output_type": "display_data"
    },
    {
     "data": {
      "text/plain": [
       "[LOADc 1000,LOADc 0,STORE,POP,LOADc 1,LOADc 1,STORE,POP,LOADc 0,LOAD,LOADc 1,LOAD,ADD,LOADc 0,STORE,POP,LOADc 0,LOAD,LOADc 100,ADD,LOADc 2,STORE,POP,LOADc 1,LOAD,LOADc 1,ADD,LOADc 1,STORE,POP,HALT]"
      ]
     },
     "metadata": {},
     "output_type": "display_data"
    },
    {
     "data": {
      "text/plain": [
       "[LOADc 1000,LOADc 0,STORE,POP,LOADc 1,LOADc 1,STORE,POP,LOADc 0,LOAD,LOADc 1,LOAD,ADD,LOADc 0,STORE,POP,LOADc 0,LOAD,LOADc 100,ADD,LOADc 2,STORE,POP,LOADc 1,LOAD,LOADc 1,ADD,LOADc 1,STORE,POP,DUP,POP,HALT]"
      ]
     },
     "metadata": {},
     "output_type": "display_data"
    }
   ],
   "source": [
    "is3 []\n",
    "is3 [HALT]\n",
    "is3 [DUP,POP,HALT]"
   ]
  },
  {
   "cell_type": "code",
   "execution_count": 21,
   "metadata": {},
   "outputs": [
    {
     "data": {
      "text/plain": [
       "{ stack = [1101,2,1001]\n",
       " , code = [] }"
      ]
     },
     "metadata": {},
     "output_type": "display_data"
    }
   ],
   "source": [
    "run (is3 [], [0,0,0])"
   ]
  },
  {
   "cell_type": "code",
   "execution_count": 167,
   "metadata": {},
   "outputs": [
    {
     "data": {
      "text/plain": [
       "3"
      ]
     },
     "metadata": {},
     "output_type": "display_data"
    },
    {
     "data": {
      "text/plain": [
       "[0,0,0]"
      ]
     },
     "metadata": {},
     "output_type": "display_data"
    }
   ],
   "source": [
    "Map.size ρ3\n",
    "replicate (Map.size ρ3) 0"
   ]
  },
  {
   "cell_type": "code",
   "execution_count": 22,
   "metadata": {},
   "outputs": [
    {
     "data": {
      "text/plain": [
       "{ stack = [1101,2,1001]\n",
       " , code = [] }"
      ]
     },
     "metadata": {},
     "output_type": "display_data"
    }
   ],
   "source": [
    "run (is3 [], replicate (Map.size ρ3) 0)"
   ]
  },
  {
   "cell_type": "markdown",
   "metadata": {},
   "source": [
    "<br>\n",
    "\n",
    "이번엔 이 프로그램을 컴파일해 보자.\n",
    "\n",
    "```c\n",
    "int x = 1000;\n",
    "int i = 1;\n",
    "while (i <= 10) {\n",
    "    x <- x + i;\n",
    "    i <- i + 1;\n",
    "}\n",
    "```"
   ]
  },
  {
   "cell_type": "code",
   "execution_count": 23,
   "metadata": {},
   "outputs": [],
   "source": [
    "stmt4 = Block \n",
    "    [ DStmt $ VDec Tint \"x\" (Lit 1000)  -- int x = 1000;\n",
    "    , DStmt $ VDec Tint \"i\" (Lit 1)     -- int i = 1;\n",
    "    , While (Leq (Var \"i\") (Lit 10)) $ Block                   -- while (i <= 10) {\n",
    "        [ EStmt $ Assign (Var \"x\") (Add (Var \"x\") (Var \"i\")) --    x <- x + i;\n",
    "        , EStmt $ Assign (Var \"i\") (Add (Var \"i\") (Lit 1))   --    i <- i + 1;\n",
    "        ]                                                    -- }\n",
    "    ]"
   ]
  },
  {
   "cell_type": "code",
   "execution_count": 24,
   "metadata": {},
   "outputs": [],
   "source": [
    "ρ4 = extend stmt4 Map.empty\n",
    "is4 = code stmt4 ρ4"
   ]
  },
  {
   "cell_type": "code",
   "execution_count": 25,
   "metadata": {},
   "outputs": [
    {
     "data": {
      "text/plain": [
       "fromList [(\"i\",1),(\"x\",0)]"
      ]
     },
     "metadata": {},
     "output_type": "display_data"
    },
    {
     "data": {
      "text/plain": [
       "[LOADc 1000,LOADc 0,STORE,POP,LOADc 1,LOADc 1,STORE,POP,LOADc 1,LOAD,LOADc 10,LEQ,JUMPz ...,LOADc 0,LOAD,LOADc 1,LOAD,ADD,LOADc 0,STORE,POP,LOADc 1,LOAD,LOADc 1,ADD,LOADc 1,STORE,POP,JUMP ...]"
      ]
     },
     "metadata": {},
     "output_type": "display_data"
    }
   ],
   "source": [
    "ρ4\n",
    "is4 []"
   ]
  },
  {
   "cell_type": "code",
   "execution_count": 26,
   "metadata": {},
   "outputs": [
    {
     "data": {
      "text/plain": [
       "{ stack = [11,1055]\n",
       " , code = [] }"
      ]
     },
     "metadata": {},
     "output_type": "display_data"
    }
   ],
   "source": [
    "run (is4 [], replicate (Map.size ρ4) 0)"
   ]
  },
  {
   "cell_type": "markdown",
   "metadata": {},
   "source": [
    "<br>\n",
    "\n",
    "컴파일하기 전에 프로그램을 한번 훑으며 변수 선언문에 나타나는 변수들에 대한 적절한 주소환경을 자동으로 계산할 수 있다.\n",
    "\n",
    "지금은 모든 변수가 기본타입인 정수형이다.\n",
    "만일 1차원 정수 배열도 선언할 수 있게 하려면 어떻게 주소환경을 계산해야 할까?\n",
    "\n",
    "힌트: `extendD`에서 변수 선언(`VDec ...`)에 `nextSA`를 계산할 때 어떤 점을 추가로 고려해야 할지 생각해 보라."
   ]
  },
  {
   "cell_type": "code",
   "execution_count": null,
   "metadata": {},
   "outputs": [],
   "source": []
  }
 ],
 "metadata": {
  "kernelspec": {
   "display_name": "Haskell",
   "language": "haskell",
   "name": "haskell"
  },
  "language_info": {
   "codemirror_mode": "ihaskell",
   "file_extension": ".hs",
   "name": "haskell",
   "pygments_lexer": "Haskell",
   "version": "8.6.5"
  }
 },
 "nbformat": 4,
 "nbformat_minor": 4
}
