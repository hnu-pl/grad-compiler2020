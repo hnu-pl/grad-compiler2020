{
 "cells": [
  {
   "cell_type": "code",
   "execution_count": 2,
   "metadata": {},
   "outputs": [],
   "source": [
    "type Nm = String\n",
    "\n",
    "data Exp = Var Nm      -- x\n",
    "         | App Exp Exp -- e1 e2\n",
    "         | Lam Nm Exp  -- \\x.e\n",
    "         | Lit Int     -- n\n",
    "         | Add Exp Exp -- e1 + e2\n",
    "         deriving Show"
   ]
  },
  {
   "cell_type": "code",
   "execution_count": 11,
   "metadata": {},
   "outputs": [],
   "source": [
    ":opt no-lint"
   ]
  },
  {
   "cell_type": "code",
   "execution_count": 9,
   "metadata": {},
   "outputs": [
    {
     "data": {
      "text/plain": [
       "Just 1"
      ]
     },
     "metadata": {},
     "output_type": "display_data"
    },
    {
     "data": {
      "text/plain": [
       "Nothing"
      ]
     },
     "metadata": {},
     "output_type": "display_data"
    }
   ],
   "source": [
    "lookup \"x\" [(\"x\",1),(\"y\",2)]\n",
    "lookup \"z\" [(\"x\",1),(\"y\",2)]"
   ]
  },
  {
   "cell_type": "code",
   "execution_count": 17,
   "metadata": {},
   "outputs": [],
   "source": [
    "-- 여러가지 종류의 걸과값이 있다 (1) 정수값 (2) 함수값.\n",
    "\n",
    "-- 인터프리터가 변수의 값을 알아오기 위한 실행 환경\n",
    "type Env = [ (Nm,Value) ]\n",
    "\n",
    "data Value = Vint Int\n",
    "           | Clos Exp Env\n",
    "           deriving Show\n",
    "\n",
    "eval :: Env -> Exp -> Value\n",
    "eval env (Var x)     =\n",
    "    case lookup x env of\n",
    "      Just v  -> v\n",
    "      Nothing -> error $ \"cannot find \"++x\n",
    "eval env (Lam x e)   = Clos (Lam x e) env\n",
    "eval env (App e1 e2) =\n",
    "  case v1 of\n",
    "    Clos (Lam x e) env1 -> eval ((x,v2):env1) e\n",
    "    _                   -> error \"e1 is not function\"\n",
    "  where\n",
    "      v1 = eval env e1\n",
    "      v2 = eval env e2\n",
    "eval env (Lit n)     = Vint n\n",
    "eval env (Add e1 e2) =\n",
    "  case (v1, v2) of\n",
    "    (Vint n1, Vint n2) -> Vint (n1+n2)\n",
    "    _                  -> error \"Add need two Vint\"\n",
    "  where\n",
    "      v1 = eval env e1\n",
    "      v2 = eval env e2"
   ]
  },
  {
   "cell_type": "code",
   "execution_count": 14,
   "metadata": {},
   "outputs": [
    {
     "data": {
      "text/plain": [
       "Vint 3"
      ]
     },
     "metadata": {},
     "output_type": "display_data"
    }
   ],
   "source": [
    "eval [(\"x\",Vint 1),(\"y\",Vint 2)] (Add (Var \"x\") (Var \"y\"))"
   ]
  },
  {
   "cell_type": "code",
   "execution_count": 20,
   "metadata": {},
   "outputs": [
    {
     "data": {
      "text/plain": [
       "Clos (Lam \"x\" (Add (Var \"x\") (Var \"y\"))) [(\"y\",Vint 3)]"
      ]
     },
     "metadata": {},
     "output_type": "display_data"
    },
    {
     "data": {
      "text/plain": [
       "Vint 103"
      ]
     },
     "metadata": {},
     "output_type": "display_data"
    }
   ],
   "source": [
    "e1 = Add (Var \"x\") (Var \"y\")\n",
    "\n",
    "eval [(\"y\",Vint 3)] (Lam \"x\" e1)\n",
    "eval [(\"y\",Vint 3)] (App (Lam \"x\" e1) (Lit 100))"
   ]
  },
  {
   "cell_type": "code",
   "execution_count": null,
   "metadata": {},
   "outputs": [],
   "source": []
  }
 ],
 "metadata": {
  "kernelspec": {
   "display_name": "Haskell",
   "language": "haskell",
   "name": "haskell"
  },
  "language_info": {
   "codemirror_mode": "ihaskell",
   "file_extension": ".hs",
   "name": "haskell",
   "pygments_lexer": "Haskell",
   "version": "8.6.5"
  }
 },
 "nbformat": 4,
 "nbformat_minor": 4
}
