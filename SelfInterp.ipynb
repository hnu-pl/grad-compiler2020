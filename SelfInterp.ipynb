{
 "cells": [
  {
   "cell_type": "code",
   "execution_count": 1,
   "metadata": {},
   "outputs": [],
   "source": [
    ":opt no-lint"
   ]
  },
  {
   "cell_type": "markdown",
   "metadata": {},
   "source": [
    "# Self-interpretation in the $\\lambda$-caculus\n",
    "참고자료: http://www.cs.ioc.ee/ewscs/2016/geuvers/geuvers-slides-lecture2.pdf\n",
    "\n",
    "매우 간단하지만 모든 계산이 가능한 람다계산법에서\n",
    "람다계산법 자신에 대한 인터프리터를 작성하는 방법에 대해 알아보는\n",
    "2016년 에스토니아 컴퓨터과학 겨울학교 강의자료를 따라가 보기로 하자.\n",
    "\n",
    "이것을 프로그래밍 언어의 예로 들면 하스켈로 하스켈 인터프리터를 작성한다거나\n",
    "파이썬으로 파이썬 인터프리터를 작성한다거나 하는 자기 자신의 언어에 대한\n",
    "인터프리터를 바로 그 언어로 작성하는 것과 마찬가지이다. 이것을 가장 간단하지만\n",
    "모든 프로그래밍 언어로 표현가능한 계산을 다 표현할 수 있는 람다계산법으로 해보자는 것.\n",
    "\n",
    "---\n",
    "\n",
    "## 람다계산법에서 데이터의 인코딩\n",
    "\n",
    "$ e \\in \\textsf{Exp} ~ ::= ~ x ~\\mid~ (e_1~e_2) ~\\mid~ (\\lambda x.e) $\n",
    "\n",
    "이렇게 간단한 3가지의 식으로만 이루어진 언어가 모든 계산을 다 할 수 있다고 한다.\n",
    "\n",
    "일단 처음 람다계산법을 보면 이것이 쉽게 믿기지 않는다.\n",
    "왜냐하면 람다계산법에는 데이터를 구성하는 방법이 따로 없고 함수만 만들 수 있기 때문이다.\n",
    "\n",
    "보통 우리가 생각하는 계산은 어떤 데이터를 입력으로 받아 새로운 데이터를 결과값으로 계산하는 방식이다.\n",
    "그러니까 우리가 생각하는 계산이란 계산의 대상이 되는 데이터 입력 데이터 $d$를\n",
    "계산과정을 나타내는 함수(혹은 프로시저) $f$에 넘겨 실행하는 $f(d)$로 이해할 수 있다.\n",
    "\n",
    "람다계산법에는 함수밖에 없기 때문에 데이터도 함수로 표현 혹은 함수로 인코딩해서 활용하는 방식으로\n",
    "이런 우리가 생각하는 모든 계산을 진행할 수 있다고 알려져 있다. 람다계산법이 원래 함수를 표현하기\n",
    "위해 만들어졌으므로 $f$를 인코딩할 수 있으리라는 것은 것은 누구나 상식적이라 받아들인다.\n",
    "그렇다면 데이터 $d$를 어떤 식으로 인코딩하는지가 문제로 남는다.\n",
    "\n",
    "람다식으로 인코딩한다는 의미로 $\\lceil \\cdot \\rceil$라는 표기법을 쓰겠다.\n",
    " * $\\lceil f\\, \\rceil$는 $f$를 인코딩한 람다식 \n",
    " * $\\lceil d\\, \\rceil$는 $d$를 인코딩한 람다식\n",
    "\n",
    "그러니까 $\\lceil f\\, \\rceil\\,\\lceil d\\, \\rceil$는 $f(d)$를 인코딩한 람다식에 해당한다.\n",
    "이렇게 인코딩할 수 있다면 $f(d)$를 계산하는 대신\n",
    "$\\lceil f\\, \\rceil\\,\\lceil d\\, \\rceil$를 람다식의 계산규칙에 따라 기계적으로 계산하면 된다."
   ]
  },
  {
   "cell_type": "markdown",
   "metadata": {},
   "source": [
    "### 진리값 데이터의 인코딩\n",
    "0개나 1개의 값만으로 구성되는 보통 Void나 Unit이라고 부르는 데이터도 있지만 이건 너무 단순한 경우니까 넘어가자.\n",
    "\n",
    "그 다음으로 가장 간단한 경우인 2개의 값으로 이루어지는 보통 Bool이라고 부르는 진리값 데이터를 인코딩해 보자.\n",
    "\n",
    "즉 $\\lceil\\texttt{True}\\rceil$와 $\\lceil\\texttt{False}\\rceil$를 각각 적절한 람다식에 대응시켜 보자는 이야기.\n",
    "\n",
    "그냥 하스켈의 람다식을 이용해서 람다계산법을 손쉽게 실행시키면서 작성해 보기로 하자."
   ]
  },
  {
   "cell_type": "code",
   "execution_count": 2,
   "metadata": {},
   "outputs": [],
   "source": [
    "true  = \\x -> \\y -> x  -- ⌈ True ⌉ = λx.λy.x\n",
    "false = \\x -> \\y -> y  -- ⌈ False⌉ = λx.λy.y"
   ]
  },
  {
   "cell_type": "code",
   "execution_count": 3,
   "metadata": {},
   "outputs": [
    {
     "ename": "",
     "evalue": "",
     "header": "MessageHeader {mhIdentifiers = [\"96c644dd-0439-4f68-813f-9cade0ba2488\"], mhParentHeader = Just (MessageHeader {mhIdentifiers = [\"96c644dd-0439-4f68-813f-9cade0ba2488\"], mhParentHeader = Nothing, mhMetadata = Metadata (fromList [(\"recordTiming\",Bool False),(\"deletedCells\",Array []),(\"cellId\",String \"9ef00578-5da0-4440-bff6-c4cd7f5b39cc\")]), mhMessageId = UUID {uuidToString = \"0f7dc187-d7b5-4fc9-bf05-786b2e6ddb25\"}, mhSessionId = UUID {uuidToString = \"96c644dd-0439-4f68-813f-9cade0ba2488\"}, mhUsername = \"\", mhMsgType = ExecuteRequestMessage, mhBuffers = []}), mhMetadata = Metadata (fromList []), mhMessageId = UUID {uuidToString = \"16f4e7e6-8c7e-4b24-ba49-3a3e6bfa7dd4\"}, mhSessionId = UUID {uuidToString = \"96c644dd-0439-4f68-813f-9cade0ba2488\"}, mhUsername = \"\", mhMsgType = ExecuteErrorMessage, mhBuffers = []}",
     "output_type": "error",
     "traceback": [
      "<interactive>:1:1: error:\n    • No instance for (Show (p10 -> p20 -> p10)) arising from a use of ‘print’\n        (maybe you haven't applied a function to enough arguments?)\n    • In a stmt of an interactive GHCi command: print it"
     ]
    }
   ],
   "source": [
    "true -- 람다식 즉 함수는 보통 프로그래밍 언어에서 안을 직접 들여다볼 수 없어서 일반적으로 출력되지 않음"
   ]
  },
  {
   "cell_type": "code",
   "execution_count": 4,
   "metadata": {},
   "outputs": [],
   "source": [
    "-- 인코딩된 진리값 람다식을 디코딩, 그러니까 ⌈ b ⌉ 로부터 b를 뽑아내는 함수\n",
    "-- (람다식은 함수라서 하스켈에서 출력해 주지 않으므로 결과를 출력해 검사하기 위한 용도)\n",
    "decodeBool b = b True False"
   ]
  },
  {
   "cell_type": "code",
   "execution_count": 5,
   "metadata": {},
   "outputs": [
    {
     "data": {
      "text/plain": [
       "True"
      ]
     },
     "metadata": {},
     "output_type": "display_data"
    }
   ],
   "source": [
    "decodeBool true"
   ]
  },
  {
   "cell_type": "code",
   "execution_count": 6,
   "metadata": {},
   "outputs": [
    {
     "data": {
      "text/plain": [
       "False"
      ]
     },
     "metadata": {},
     "output_type": "display_data"
    }
   ],
   "source": [
    "decodeBool false"
   ]
  },
  {
   "cell_type": "code",
   "execution_count": 7,
   "metadata": {},
   "outputs": [],
   "source": [
    "-- if b then e1 else e0 를 인자를 3개 연달아 받는 함수로 생각해 이를 람다식으로 인코딩\n",
    "_if_then_else = \\b -> \\e1 -> \\e0 -> b e1 e0"
   ]
  },
  {
   "cell_type": "code",
   "execution_count": 8,
   "metadata": {},
   "outputs": [
    {
     "data": {
      "text/plain": [
       "\"e1\""
      ]
     },
     "metadata": {},
     "output_type": "display_data"
    }
   ],
   "source": [
    "_if_then_else true  \"e1\" \"e0\""
   ]
  },
  {
   "cell_type": "code",
   "execution_count": 9,
   "metadata": {},
   "outputs": [
    {
     "data": {
      "text/plain": [
       "\"e0\""
      ]
     },
     "metadata": {},
     "output_type": "display_data"
    }
   ],
   "source": [
    "_if_then_else false \"e1\" \"e0\""
   ]
  },
  {
   "cell_type": "code",
   "execution_count": 10,
   "metadata": {},
   "outputs": [],
   "source": [
    "_not = \\b -> \\x -> \\y -> b y x  -- λb.λx.λy.b y x "
   ]
  },
  {
   "cell_type": "code",
   "execution_count": 13,
   "metadata": {},
   "outputs": [
    {
     "ename": "",
     "evalue": "",
     "header": "MessageHeader {mhIdentifiers = [\"96c644dd-0439-4f68-813f-9cade0ba2488\"], mhParentHeader = Just (MessageHeader {mhIdentifiers = [\"96c644dd-0439-4f68-813f-9cade0ba2488\"], mhParentHeader = Nothing, mhMetadata = Metadata (fromList [(\"recordTiming\",Bool False),(\"deletedCells\",Array []),(\"cellId\",String \"9797cc57-7323-47a5-827e-1e7885ba1a2f\")]), mhMessageId = UUID {uuidToString = \"21395823-2ff7-4462-bd1b-30604d2d8a10\"}, mhSessionId = UUID {uuidToString = \"96c644dd-0439-4f68-813f-9cade0ba2488\"}, mhUsername = \"\", mhMsgType = ExecuteRequestMessage, mhBuffers = []}), mhMetadata = Metadata (fromList []), mhMessageId = UUID {uuidToString = \"76433b03-f5b5-4b84-b18c-64f43fedf2e6\"}, mhSessionId = UUID {uuidToString = \"96c644dd-0439-4f68-813f-9cade0ba2488\"}, mhUsername = \"\", mhMsgType = ExecuteErrorMessage, mhBuffers = []}",
     "output_type": "error",
     "traceback": [
      "<interactive>:1:1: error:\n    • No instance for (Show (p20 -> t30 -> t30)) arising from a use of ‘print’\n        (maybe you haven't applied a function to enough arguments?)\n    • In a stmt of an interactive GHCi command: print it"
     ]
    }
   ],
   "source": [
    "_not true -- 결과값도 함수라서 출력 안됨"
   ]
  },
  {
   "cell_type": "code",
   "execution_count": 11,
   "metadata": {},
   "outputs": [
    {
     "data": {
      "text/plain": [
       "False"
      ]
     },
     "metadata": {},
     "output_type": "display_data"
    }
   ],
   "source": [
    "decodeBool $ _not true"
   ]
  },
  {
   "cell_type": "code",
   "execution_count": 12,
   "metadata": {},
   "outputs": [
    {
     "data": {
      "text/plain": [
       "True"
      ]
     },
     "metadata": {},
     "output_type": "display_data"
    }
   ],
   "source": [
    "decodeBool $ _not false"
   ]
  },
  {
   "cell_type": "code",
   "execution_count": 14,
   "metadata": {},
   "outputs": [],
   "source": [
    "_and = \\b1 -> \\b2 -> b1 (b2 true false) false -- λb1.λb2.b1 (b2 ⌈ True ⌉ ⌈ False⌉) ⌈ False⌉"
   ]
  },
  {
   "cell_type": "code",
   "execution_count": 16,
   "metadata": {},
   "outputs": [
    {
     "ename": "",
     "evalue": "",
     "header": "MessageHeader {mhIdentifiers = [\"96c644dd-0439-4f68-813f-9cade0ba2488\"], mhParentHeader = Just (MessageHeader {mhIdentifiers = [\"96c644dd-0439-4f68-813f-9cade0ba2488\"], mhParentHeader = Nothing, mhMetadata = Metadata (fromList [(\"recordTiming\",Bool False),(\"deletedCells\",Array []),(\"cellId\",String \"8c74418d-7845-4c90-9178-85413690dc5f\")]), mhMessageId = UUID {uuidToString = \"aabd0cae-853e-43a7-9468-9cc6f0449c17\"}, mhSessionId = UUID {uuidToString = \"96c644dd-0439-4f68-813f-9cade0ba2488\"}, mhUsername = \"\", mhMsgType = ExecuteRequestMessage, mhBuffers = []}), mhMetadata = Metadata (fromList []), mhMessageId = UUID {uuidToString = \"0fdfe3d0-d3fe-4da0-a96b-1d7e71a46659\"}, mhSessionId = UUID {uuidToString = \"96c644dd-0439-4f68-813f-9cade0ba2488\"}, mhUsername = \"\", mhMsgType = ExecuteErrorMessage, mhBuffers = []}",
     "output_type": "error",
     "traceback": [
      "<interactive>:1:1: error:\n    • No instance for (Show (p60 -> p70 -> p60)) arising from a use of ‘print’\n        (maybe you haven't applied a function to enough arguments?)\n    • In a stmt of an interactive GHCi command: print it"
     ]
    }
   ],
   "source": [
    "_and true true -- 결과값도 함수라서 출력 안됨"
   ]
  },
  {
   "cell_type": "code",
   "execution_count": 15,
   "metadata": {},
   "outputs": [
    {
     "data": {
      "text/plain": [
       "True"
      ]
     },
     "metadata": {},
     "output_type": "display_data"
    }
   ],
   "source": [
    "decodeBool $ _and true true"
   ]
  },
  {
   "cell_type": "code",
   "execution_count": 17,
   "metadata": {},
   "outputs": [
    {
     "data": {
      "text/plain": [
       "False"
      ]
     },
     "metadata": {},
     "output_type": "display_data"
    }
   ],
   "source": [
    "decodeBool $ _and true false"
   ]
  },
  {
   "cell_type": "code",
   "execution_count": 18,
   "metadata": {},
   "outputs": [
    {
     "data": {
      "text/plain": [
       "False"
      ]
     },
     "metadata": {},
     "output_type": "display_data"
    }
   ],
   "source": [
    "decodeBool $ _and false true"
   ]
  },
  {
   "cell_type": "code",
   "execution_count": 19,
   "metadata": {},
   "outputs": [
    {
     "data": {
      "text/plain": [
       "False"
      ]
     },
     "metadata": {},
     "output_type": "display_data"
    }
   ],
   "source": [
    "decodeBool $ _and false false"
   ]
  },
  {
   "cell_type": "markdown",
   "metadata": {},
   "source": [
    "----"
   ]
  },
  {
   "cell_type": "code",
   "execution_count": null,
   "metadata": {},
   "outputs": [],
   "source": [
    "{-# LANGUAGE TemplateHaskell #-}\n",
    "import Control.Monad\n",
    "import Language.Haskell.TH\n",
    "\n",
    "_U :: Int -> Int -> Q Exp\n",
    "_U n i = do\n",
    "  xs <- replicateM n (newName \"x\")\n",
    "  let args = map VarP xs\n",
    "  return $ LamE args (VarE $ xs!!(i-1))"
   ]
  },
  {
   "cell_type": "code",
   "execution_count": null,
   "metadata": {},
   "outputs": [],
   "source": [
    "$(_U 2 1) \"e1\" \"e2\"  -- λx.λy.x\n",
    "$(_U 2 2) \"e1\" \"e2\"  -- λx.λy.x"
   ]
  },
  {
   "cell_type": "code",
   "execution_count": null,
   "metadata": {},
   "outputs": [],
   "source": [
    "$(_U 3 1) \"e1\" \"e2\" \"e3\"  -- λx.λy.λz.x\n",
    "$(_U 3 2) \"e1\" \"e2\" \"e3\"  -- λx.λy.λz.y\n",
    "$(_U 3 3) \"e1\" \"e2\" \"e3\"  -- λx.λy.λz.z"
   ]
  },
  {
   "cell_type": "code",
   "execution_count": null,
   "metadata": {},
   "outputs": [],
   "source": [
    "{-# LANGUAGE ImpredicativeTypes #-}\n",
    "_Var :: d ->      (forall e.(forall a b c.a -> b -> c -> a) -> d -> e -> d)      -> d\n",
    "_App :: d -> d -> (forall e.(forall a b c.a -> b -> c -> b) -> d -> d -> e -> d) -> d\n",
    "_Abs :: d ->      (forall e.(forall a b c.a -> b -> c -> c) -> d -> e -> d)      -> d\n",
    "\n",
    "_Var = \\x e   -> e $(_U 3 1) x e\n",
    "_App = \\x y e -> e $(_U 3 2) x y e\n",
    "_Abs = \\x e   -> e $(_U 3 3) x e"
   ]
  },
  {
   "cell_type": "code",
   "execution_count": null,
   "metadata": {},
   "outputs": [],
   "source": []
  }
 ],
 "metadata": {
  "kernelspec": {
   "display_name": "Haskell",
   "language": "haskell",
   "name": "haskell"
  },
  "language_info": {
   "codemirror_mode": "ihaskell",
   "file_extension": ".hs",
   "name": "haskell",
   "pygments_lexer": "Haskell",
   "version": "8.6.5"
  }
 },
 "nbformat": 4,
 "nbformat_minor": 4
}
