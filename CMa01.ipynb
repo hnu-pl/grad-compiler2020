{
 "cells": [
  {
   "cell_type": "markdown",
   "metadata": {},
   "source": [
    "# 2. Imperative Programming Languages\n",
    "\n",
    "우선 2.5까지 나오는 내용 중에서 switch문은 제외하고 살펴보자."
   ]
  },
  {
   "cell_type": "markdown",
   "metadata": {},
   "source": [
    "---\n",
    "컴파일 타겟이 되는 VM의 단순화된 버전을 하스켈로 구현"
   ]
  },
  {
   "cell_type": "code",
   "execution_count": 2,
   "metadata": {},
   "outputs": [],
   "source": [
    "-- {-# LANGUAGE DeriveFoldable #-}\n",
    "{-# LANGUAGE DeriveFunctor #-}\n",
    "{-# LANGUAGE NoMonomorphismRestriction #-}\n",
    "{-# LANGUAGE FlexibleInstances #-}\n",
    "{-# LANGUAGE FlexibleContexts #-}\n",
    "\n",
    "data Instr pa\n",
    "    = HALT | NEG | ADD | SUB | MUL | DIV\n",
    "    | AND | OR | EQU | NEQ | GR | GEQ | LE | LEQ\n",
    "    | POP | DUP\n",
    "    | LOADc Int | LOAD -- | LOADr | LOADrc\n",
    "    | STORE -- | STOREr\n",
    "    | JUMP pa | JUMPz pa | JUMPi pa\n",
    "    -- | CALL | RETURN | ENTER | ALLOC | SLIDE | MARK\n",
    "    -- | NEW\n",
    "    deriving (Eq, Ord, Show, Functor)\n",
    "\n",
    "type CMa = (Code, Stack)\n",
    "\n",
    "type Stack = [Value]\n",
    "type Value = Int\n",
    "\n",
    "-- stack address as reverse index of stack\n",
    "type SA = Int\n",
    "\n",
    "-- 가상머신에서 실행할 코드\n",
    "type Code = [Instr PA] -- Instruction 명령어인데 점프하는 주소가 PA 타입인 명령어의 리스트\n",
    "\n",
    "-- program address representation\n",
    "newtype PA = PA Code  deriving (Eq,Ord,Show)"
   ]
  },
  {
   "cell_type": "code",
   "execution_count": 3,
   "metadata": {},
   "outputs": [],
   "source": [
    "import Data.List\n",
    "\n",
    "data DotDotDot = DotDotDot\n",
    "\n",
    "instance Show DotDotDot where\n",
    "    show _ = \"...\"\n",
    "\n",
    "-- to prevent infinite printing\n",
    "instance {-# OVERLAPS #-} Show Code where\n",
    "    show is = \"[\"++intercalate \",\" (show . fmap (\\(PA _) -> DotDotDot) <$> is)++\"]\"\n",
    "\n",
    "-- to prevent infinite printing\n",
    "instance {-# OVERLAPS #-} Show CMa where\n",
    "    show (is,vs) = \"{ stack = \"++show vs++\"\\n , code = \"++show is++\" }\""
   ]
  },
  {
   "cell_type": "code",
   "execution_count": 4,
   "metadata": {},
   "outputs": [],
   "source": [
    "-- load and store operation for Stack\n",
    "load :: SA -> Stack -> Value\n",
    "load i vs = reverse vs !! i\n",
    "\n",
    "store :: SA -> Value -> Stack -> Stack\n",
    "store i x vs = vs1++x:vs2\n",
    "    where\n",
    "    (vs1,_:vs2) = splitAt (length vs - 1 - i) vs"
   ]
  },
  {
   "cell_type": "code",
   "execution_count": 5,
   "metadata": {},
   "outputs": [
    {
     "data": {
      "text/plain": [
       "14"
      ]
     },
     "metadata": {},
     "output_type": "display_data"
    },
    {
     "data": {
      "text/plain": [
       "12"
      ]
     },
     "metadata": {},
     "output_type": "display_data"
    }
   ],
   "source": [
    "load 0 [11,12,13,14]\n",
    "load 2 [11,12,13,14]"
   ]
  },
  {
   "cell_type": "code",
   "execution_count": 6,
   "metadata": {},
   "outputs": [
    {
     "data": {
      "text/plain": [
       "[1,1,1,1,3]"
      ]
     },
     "metadata": {},
     "output_type": "display_data"
    },
    {
     "data": {
      "text/plain": [
       "[1,1,3,1,1]"
      ]
     },
     "metadata": {},
     "output_type": "display_data"
    }
   ],
   "source": [
    "store 0 3 [1,1,1,1,1]\n",
    "store 2 3 [1,1,1,1,1]"
   ]
  },
  {
   "cell_type": "code",
   "execution_count": 7,
   "metadata": {},
   "outputs": [],
   "source": [
    "import Data.Bits\n",
    "\n",
    "step :: CMa -> CMa\n",
    "step (HALT : _, vs) = ([], vs)\n",
    "step (NEG : is, v : vs) = (is, (-v):vs)\n",
    "step (ADD : is, v2:v1:vs) = (is, v1 + v2 : vs)\n",
    "step (SUB : is, v2:v1:vs) = (is, v1 - v2 : vs)\n",
    "step (MUL : is, v2:v1:vs) = (is, v1 * v2 : vs)\n",
    "step (DIV : is, v2:v1:vs) = (is, v1 `div` v2 : vs)\n",
    "step (AND : is, v2:v1:vs) = (is, (v1 .&. v2) : vs)\n",
    "step (OR  : is, v2:v1:vs) = (is, (v1 .|. v2) : vs)\n",
    "step (EQU : is, v2:v1:vs) = (is, b2i(v1 == v2) : vs)\n",
    "step (NEQ : is, v2:v1:vs) = (is, b2i(v1 /= v2) : vs)\n",
    "step (GR  : is, v2:v1:vs) = (is, b2i(v1 >  v2) : vs)\n",
    "step (GEQ : is, v2:v1:vs) = (is, b2i(v1 >= v2) : vs)\n",
    "step (LE  : is, v2:v1:vs) = (is, b2i(v1 <  v2) : vs)\n",
    "step (LEQ : is, v2:v1:vs) = (is, b2i(v1 <= v2) : vs)\n",
    "step (POP : is, _:vs) = (is, vs)\n",
    "step (DUP : is, v:vs) = (is, v:v:vs)\n",
    "step (LOADc v : is, vs) = (is, v:vs)\n",
    "step (LOAD : is, a:vs) = (is, v:vs) where v = load a vs \n",
    "step (STORE : is, a:n:vs) = (is, n:vs') where vs' = store a n vs\n",
    "step (JUMP  (PA c) : _, vs) = (c, vs)\n",
    "step (JUMPz (PA c) : _, 0:vs) = (c, vs)\n",
    "step (JUMPz _ : is,     _:vs) = (is, vs)\n",
    "step vm = error $ \"VM is stuck: \"++show vm\n",
    "\n",
    "i2b 0 = False\n",
    "i2b 1 = True\n",
    "\n",
    "b2i False = 0\n",
    "b2i True  = 1\n",
    "\n",
    "exec :: CMa -> [CMa]\n",
    "exec vm@([],_) = [vm]\n",
    "exec vm        = vm : exec (step vm)\n",
    "\n",
    "run :: CMa -> CMa\n",
    "run = last . exec"
   ]
  },
  {
   "cell_type": "code",
   "execution_count": 8,
   "metadata": {},
   "outputs": [
    {
     "data": {
      "text/plain": [
       "4"
      ]
     },
     "metadata": {},
     "output_type": "display_data"
    },
    {
     "data": {
      "text/plain": [
       "400"
      ]
     },
     "metadata": {},
     "output_type": "display_data"
    },
    {
     "data": {
      "text/plain": [
       "1000"
      ]
     },
     "metadata": {},
     "output_type": "display_data"
    }
   ],
   "source": [
    "1 + 3\n",
    "it * 100\n",
    "it + 600"
   ]
  },
  {
   "cell_type": "code",
   "execution_count": 9,
   "metadata": {},
   "outputs": [
    {
     "data": {
      "text/plain": [
       "{ stack = []\n",
       " , code = [LOADc 3,LOADc 2,SUB] }"
      ]
     },
     "metadata": {},
     "output_type": "display_data"
    },
    {
     "data": {
      "text/plain": [
       "{ stack = [3]\n",
       " , code = [LOADc 2,SUB] }"
      ]
     },
     "metadata": {},
     "output_type": "display_data"
    },
    {
     "data": {
      "text/plain": [
       "{ stack = [2,3]\n",
       " , code = [SUB] }"
      ]
     },
     "metadata": {},
     "output_type": "display_data"
    },
    {
     "data": {
      "text/plain": [
       "{ stack = [1]\n",
       " , code = [] }"
      ]
     },
     "metadata": {},
     "output_type": "display_data"
    }
   ],
   "source": [
    "([LOADc 3, LOADc 2, SUB],[]) :: CMa -- 3 - 2  손컴파일해서\n",
    "step it\n",
    "step it\n",
    "step it"
   ]
  },
  {
   "cell_type": "code",
   "execution_count": 10,
   "metadata": {},
   "outputs": [
    {
     "data": {
      "text/plain": [
       "{ stack = []\n",
       " , code = [LOADc 3,LOADc 2,SUB] }\n",
       "{ stack = [3]\n",
       " , code = [LOADc 2,SUB] }\n",
       "{ stack = [2,3]\n",
       " , code = [SUB] }\n",
       "{ stack = [1]\n",
       " , code = [] }"
      ]
     },
     "metadata": {},
     "output_type": "display_data"
    }
   ],
   "source": [
    "mapM_ print $ exec ([LOADc 3, LOADc 2, SUB],[])"
   ]
  },
  {
   "cell_type": "code",
   "execution_count": 11,
   "metadata": {},
   "outputs": [
    {
     "data": {
      "text/plain": [
       "{ stack = [1]\n",
       " , code = [] }"
      ]
     },
     "metadata": {},
     "output_type": "display_data"
    }
   ],
   "source": [
    "run ([LOADc 3, LOADc 2, SUB],[])"
   ]
  },
  {
   "cell_type": "code",
   "execution_count": 12,
   "metadata": {},
   "outputs": [
    {
     "data": {
      "text/plain": [
       "Just 1"
      ]
     },
     "metadata": {},
     "output_type": "display_data"
    },
    {
     "data": {
      "text/plain": [
       "Nothing"
      ]
     },
     "metadata": {},
     "output_type": "display_data"
    },
    {
     "data": {
      "text/plain": [
       "1"
      ]
     },
     "metadata": {},
     "output_type": "display_data"
    },
    {
     "ename": "",
     "evalue": "",
     "header": "MessageHeader {mhIdentifiers = [\"50f34051-246b-47d1-86ea-acbe162c3925\"], mhParentHeader = Just (MessageHeader {mhIdentifiers = [\"50f34051-246b-47d1-86ea-acbe162c3925\"], mhParentHeader = Nothing, mhMetadata = Metadata (fromList [(\"recordTiming\",Bool False),(\"deletedCells\",Array []),(\"cellId\",String \"8bf64a3d-eab0-492e-b0a8-639435362f36\")]), mhMessageId = UUID {uuidToString = \"c9940bd8-2465-43a0-92a1-803ca925e9d2\"}, mhSessionId = UUID {uuidToString = \"50f34051-246b-47d1-86ea-acbe162c3925\"}, mhUsername = \"\", mhMsgType = ExecuteRequestMessage, mhBuffers = []}), mhMetadata = Metadata (fromList []), mhMessageId = UUID {uuidToString = \"7edfff25-c2ef-44b0-aca5-3fe42a92457c\"}, mhSessionId = UUID {uuidToString = \"50f34051-246b-47d1-86ea-acbe162c3925\"}, mhUsername = \"\", mhMsgType = ExecuteErrorMessage, mhBuffers = []}",
     "output_type": "error",
     "traceback": [
      "Maybe.fromJust: Nothing"
     ]
    }
   ],
   "source": [
    "import Data.List\n",
    "import Data.Maybe\n",
    "\n",
    "elemIndex 'b' \"abc\"\n",
    "elemIndex 'd' \"abc\"\n",
    "\n",
    "fromJust (Just 1)\n",
    "fromJust Nothing"
   ]
  },
  {
   "cell_type": "code",
   "execution_count": 13,
   "metadata": {},
   "outputs": [],
   "source": [
    "elemIndex' x xs = fromJust (elemIndex x xs)"
   ]
  },
  {
   "cell_type": "code",
   "execution_count": 14,
   "metadata": {},
   "outputs": [
    {
     "data": {
      "text/plain": [
       "1"
      ]
     },
     "metadata": {},
     "output_type": "display_data"
    }
   ],
   "source": [
    "elemIndex' 'b' \"abc\" -- 1"
   ]
  },
  {
   "cell_type": "code",
   "execution_count": 15,
   "metadata": {},
   "outputs": [
    {
     "ename": "",
     "evalue": "",
     "header": "MessageHeader {mhIdentifiers = [\"50f34051-246b-47d1-86ea-acbe162c3925\"], mhParentHeader = Just (MessageHeader {mhIdentifiers = [\"50f34051-246b-47d1-86ea-acbe162c3925\"], mhParentHeader = Nothing, mhMetadata = Metadata (fromList [(\"recordTiming\",Bool False),(\"deletedCells\",Array []),(\"cellId\",String \"85c86510-4864-424d-a783-7fb2812e20ea\")]), mhMessageId = UUID {uuidToString = \"8aafd9c6-0d3c-426d-b622-b28ed51656cd\"}, mhSessionId = UUID {uuidToString = \"50f34051-246b-47d1-86ea-acbe162c3925\"}, mhUsername = \"\", mhMsgType = ExecuteRequestMessage, mhBuffers = []}), mhMetadata = Metadata (fromList []), mhMessageId = UUID {uuidToString = \"f3f51eaa-0308-471a-be8a-ef296e48e470\"}, mhSessionId = UUID {uuidToString = \"50f34051-246b-47d1-86ea-acbe162c3925\"}, mhUsername = \"\", mhMsgType = ExecuteErrorMessage, mhBuffers = []}",
     "output_type": "error",
     "traceback": [
      "Maybe.fromJust: Nothing"
     ]
    }
   ],
   "source": [
    "elemIndex' 'd' \"abc\" -- error"
   ]
  },
  {
   "cell_type": "code",
   "execution_count": 44,
   "metadata": {},
   "outputs": [],
   "source": [
    "type LabeledCode = [LabeledInstr]\n",
    "data LabeledInstr = Label :. Instr Label  deriving Show\n",
    "type Label = String\n",
    "\n",
    "lbis1 :: LabeledCode\n",
    "lbis1 =\n",
    "    [ \"\"     :. LOADc 3\n",
    "    , \"loop\" :. LOADc 1\n",
    "    , \"\"     :. SUB\n",
    "    , \"\"     :. DUP\n",
    "    , \"\"     :. JUMPz \"end\"\n",
    "    , \"\"     :. JUMP \"loop\"\n",
    "    , \"end\"  :. HALT\n",
    "    ]"
   ]
  },
  {
   "cell_type": "code",
   "execution_count": 46,
   "metadata": {},
   "outputs": [],
   "source": [
    "assemble :: LabeledCode -> Code\n",
    "assemble lbis = is'\n",
    "    where\n",
    "        is' = map (fmap lb2a) is\n",
    "        (lbs,is) = unzip [(lb,i) | lb :. i <- lbis]\n",
    "        lb2a \"\" = error \"empty string label\"\n",
    "        lb2a lb = PA $ tails is' !! elemIndex' lb lbs"
   ]
  },
  {
   "cell_type": "code",
   "execution_count": 47,
   "metadata": {},
   "outputs": [
    {
     "data": {},
     "metadata": {},
     "output_type": "display_data"
    },
    {
     "data": {
      "text/html": [
       "<div style='background: rgb(247, 247, 247);'><form><textarea id='code'>type Code = [Instr PA] \t-- Defined at <interactive>:15:1\n",
       "</textarea></form></div><script>CodeMirror.fromTextArea(document.getElementById('code'), {mode: 'haskell', readOnly: 'nocursor'});</script>"
      ],
      "text/plain": [
       "type Code = [Instr PA] \t-- Defined at <interactive>:15:1"
      ]
     },
     "metadata": {},
     "output_type": "display_data"
    }
   ],
   "source": [
    ":info Code"
   ]
  },
  {
   "cell_type": "code",
   "execution_count": 48,
   "metadata": {},
   "outputs": [
    {
     "data": {
      "text/plain": [
       "[1,2,3,4,5,6]"
      ]
     },
     "metadata": {},
     "output_type": "display_data"
    }
   ],
   "source": [
    "[1,2,3]++[4,5,6]"
   ]
  },
  {
   "cell_type": "code",
   "execution_count": 49,
   "metadata": {},
   "outputs": [
    {
     "data": {
      "text/html": [
       "<style>/* Styles used for the Hoogle display in the pager */\n",
       ".hoogle-doc {\n",
       "display: block;\n",
       "padding-bottom: 1.3em;\n",
       "padding-left: 0.4em;\n",
       "}\n",
       ".hoogle-code {\n",
       "display: block;\n",
       "font-family: monospace;\n",
       "white-space: pre;\n",
       "}\n",
       ".hoogle-text {\n",
       "display: block;\n",
       "}\n",
       ".hoogle-name {\n",
       "color: green;\n",
       "font-weight: bold;\n",
       "}\n",
       ".hoogle-head {\n",
       "font-weight: bold;\n",
       "}\n",
       ".hoogle-sub {\n",
       "display: block;\n",
       "margin-left: 0.4em;\n",
       "}\n",
       ".hoogle-package {\n",
       "font-weight: bold;\n",
       "font-style: italic;\n",
       "}\n",
       ".hoogle-module {\n",
       "font-weight: bold;\n",
       "}\n",
       ".hoogle-class {\n",
       "font-weight: bold;\n",
       "}\n",
       ".get-type {\n",
       "color: green;\n",
       "font-weight: bold;\n",
       "font-family: monospace;\n",
       "display: block;\n",
       "white-space: pre-wrap;\n",
       "}\n",
       ".show-type {\n",
       "color: green;\n",
       "font-weight: bold;\n",
       "font-family: monospace;\n",
       "margin-left: 1em;\n",
       "}\n",
       ".mono {\n",
       "font-family: monospace;\n",
       "display: block;\n",
       "}\n",
       ".err-msg {\n",
       "color: red;\n",
       "font-style: italic;\n",
       "font-family: monospace;\n",
       "white-space: pre;\n",
       "display: block;\n",
       "}\n",
       "#unshowable {\n",
       "color: red;\n",
       "font-weight: bold;\n",
       "}\n",
       ".err-msg.in.collapse {\n",
       "padding-top: 0.7em;\n",
       "}\n",
       ".highlight-code {\n",
       "white-space: pre;\n",
       "font-family: monospace;\n",
       "}\n",
       ".suggestion-warning { \n",
       "font-weight: bold;\n",
       "color: rgb(200, 130, 0);\n",
       "}\n",
       ".suggestion-error { \n",
       "font-weight: bold;\n",
       "color: red;\n",
       "}\n",
       ".suggestion-name {\n",
       "font-weight: bold;\n",
       "}\n",
       "</style><div class=\"suggestion-name\" style=\"clear:both;\">Use :</div><div class=\"suggestion-row\" style=\"float: left;\"><div class=\"suggestion-warning\">Found:</div><div class=\"highlight-code\" id=\"haskell\">[LOADc 3] ++ loop</div></div><div class=\"suggestion-row\" style=\"float: left;\"><div class=\"suggestion-warning\">Why Not:</div><div class=\"highlight-code\" id=\"haskell\">LOADc 3 : loop</div></div>"
      ],
      "text/plain": [
       "Line 2: Use :\n",
       "Found:\n",
       "[LOADc 3] ++ loop\n",
       "Why not:\n",
       "LOADc 3 : loop"
      ]
     },
     "metadata": {},
     "output_type": "display_data"
    }
   ],
   "source": [
    "is1 :: Code\n",
    "is1   = [ LOADc 3 ] ++ loop\n",
    "loop  = [ LOADc 1\n",
    "        , SUB\n",
    "        , DUP\n",
    "        , JUMPz (PA end)\n",
    "        , JUMP  (PA loop) ] ++ end\n",
    "end   = [ HALT ]"
   ]
  },
  {
   "cell_type": "code",
   "execution_count": 51,
   "metadata": {},
   "outputs": [
    {
     "data": {
      "text/plain": [
       "[LOADc 3,LOADc 1,SUB,DUP,JUMPz ...,JUMP ...,HALT]"
      ]
     },
     "metadata": {},
     "output_type": "display_data"
    },
    {
     "data": {
      "text/plain": [
       "[LOADc 3,LOADc 1,SUB,DUP,JUMPz ...,JUMP ...,HALT]"
      ]
     },
     "metadata": {},
     "output_type": "display_data"
    }
   ],
   "source": [
    "assemble lbis1\n",
    "is1"
   ]
  },
  {
   "cell_type": "code",
   "execution_count": 21,
   "metadata": {},
   "outputs": [
    {
     "data": {
      "text/plain": [
       "{ stack = []\n",
       " , code = [LOADc 3,LOADc 1,SUB,DUP,JUMPz ...,JUMP ...,HALT] }\n",
       "{ stack = [3]\n",
       " , code = [LOADc 1,SUB,DUP,JUMPz ...,JUMP ...,HALT] }\n",
       "{ stack = [1,3]\n",
       " , code = [SUB,DUP,JUMPz ...,JUMP ...,HALT] }\n",
       "{ stack = [2]\n",
       " , code = [DUP,JUMPz ...,JUMP ...,HALT] }\n",
       "{ stack = [2,2]\n",
       " , code = [JUMPz ...,JUMP ...,HALT] }\n",
       "{ stack = [2]\n",
       " , code = [JUMP ...,HALT] }\n",
       "{ stack = [2]\n",
       " , code = [LOADc 1,SUB,DUP,JUMPz ...,JUMP ...,HALT] }\n",
       "{ stack = [1,2]\n",
       " , code = [SUB,DUP,JUMPz ...,JUMP ...,HALT] }\n",
       "{ stack = [1]\n",
       " , code = [DUP,JUMPz ...,JUMP ...,HALT] }\n",
       "{ stack = [1,1]\n",
       " , code = [JUMPz ...,JUMP ...,HALT] }\n",
       "{ stack = [1]\n",
       " , code = [JUMP ...,HALT] }\n",
       "{ stack = [1]\n",
       " , code = [LOADc 1,SUB,DUP,JUMPz ...,JUMP ...,HALT] }\n",
       "{ stack = [1,1]\n",
       " , code = [SUB,DUP,JUMPz ...,JUMP ...,HALT] }\n",
       "{ stack = [0]\n",
       " , code = [DUP,JUMPz ...,JUMP ...,HALT] }\n",
       "{ stack = [0,0]\n",
       " , code = [JUMPz ...,JUMP ...,HALT] }\n",
       "{ stack = [0]\n",
       " , code = [HALT] }\n",
       "{ stack = [0]\n",
       " , code = [] }"
      ]
     },
     "metadata": {},
     "output_type": "display_data"
    }
   ],
   "source": [
    "mapM_ print . exec $ (is1,[])"
   ]
  },
  {
   "cell_type": "code",
   "execution_count": 22,
   "metadata": {},
   "outputs": [
    {
     "data": {
      "text/plain": [
       "{ stack = []\n",
       " , code = [LOADc 3,LOADc 1,SUB,DUP,JUMPz ...,JUMP ...,HALT] }\n",
       "{ stack = [3]\n",
       " , code = [LOADc 1,SUB,DUP,JUMPz ...,JUMP ...,HALT] }\n",
       "{ stack = [1,3]\n",
       " , code = [SUB,DUP,JUMPz ...,JUMP ...,HALT] }\n",
       "{ stack = [2]\n",
       " , code = [DUP,JUMPz ...,JUMP ...,HALT] }\n",
       "{ stack = [2,2]\n",
       " , code = [JUMPz ...,JUMP ...,HALT] }\n",
       "{ stack = [2]\n",
       " , code = [JUMP ...,HALT] }\n",
       "{ stack = [2]\n",
       " , code = [LOADc 1,SUB,DUP,JUMPz ...,JUMP ...,HALT] }\n",
       "{ stack = [1,2]\n",
       " , code = [SUB,DUP,JUMPz ...,JUMP ...,HALT] }\n",
       "{ stack = [1]\n",
       " , code = [DUP,JUMPz ...,JUMP ...,HALT] }\n",
       "{ stack = [1,1]\n",
       " , code = [JUMPz ...,JUMP ...,HALT] }\n",
       "{ stack = [1]\n",
       " , code = [JUMP ...,HALT] }\n",
       "{ stack = [1]\n",
       " , code = [LOADc 1,SUB,DUP,JUMPz ...,JUMP ...,HALT] }\n",
       "{ stack = [1,1]\n",
       " , code = [SUB,DUP,JUMPz ...,JUMP ...,HALT] }\n",
       "{ stack = [0]\n",
       " , code = [DUP,JUMPz ...,JUMP ...,HALT] }\n",
       "{ stack = [0,0]\n",
       " , code = [JUMPz ...,JUMP ...,HALT] }\n",
       "{ stack = [0]\n",
       " , code = [HALT] }\n",
       "{ stack = [0]\n",
       " , code = [] }"
      ]
     },
     "metadata": {},
     "output_type": "display_data"
    }
   ],
   "source": [
    "mapM_ print . exec $ (assemble lbis1,[])"
   ]
  },
  {
   "cell_type": "code",
   "execution_count": 52,
   "metadata": {},
   "outputs": [
    {
     "data": {
      "text/html": [
       "<style>/* Styles used for the Hoogle display in the pager */\n",
       ".hoogle-doc {\n",
       "display: block;\n",
       "padding-bottom: 1.3em;\n",
       "padding-left: 0.4em;\n",
       "}\n",
       ".hoogle-code {\n",
       "display: block;\n",
       "font-family: monospace;\n",
       "white-space: pre;\n",
       "}\n",
       ".hoogle-text {\n",
       "display: block;\n",
       "}\n",
       ".hoogle-name {\n",
       "color: green;\n",
       "font-weight: bold;\n",
       "}\n",
       ".hoogle-head {\n",
       "font-weight: bold;\n",
       "}\n",
       ".hoogle-sub {\n",
       "display: block;\n",
       "margin-left: 0.4em;\n",
       "}\n",
       ".hoogle-package {\n",
       "font-weight: bold;\n",
       "font-style: italic;\n",
       "}\n",
       ".hoogle-module {\n",
       "font-weight: bold;\n",
       "}\n",
       ".hoogle-class {\n",
       "font-weight: bold;\n",
       "}\n",
       ".get-type {\n",
       "color: green;\n",
       "font-weight: bold;\n",
       "font-family: monospace;\n",
       "display: block;\n",
       "white-space: pre-wrap;\n",
       "}\n",
       ".show-type {\n",
       "color: green;\n",
       "font-weight: bold;\n",
       "font-family: monospace;\n",
       "margin-left: 1em;\n",
       "}\n",
       ".mono {\n",
       "font-family: monospace;\n",
       "display: block;\n",
       "}\n",
       ".err-msg {\n",
       "color: red;\n",
       "font-style: italic;\n",
       "font-family: monospace;\n",
       "white-space: pre;\n",
       "display: block;\n",
       "}\n",
       "#unshowable {\n",
       "color: red;\n",
       "font-weight: bold;\n",
       "}\n",
       ".err-msg.in.collapse {\n",
       "padding-top: 0.7em;\n",
       "}\n",
       ".highlight-code {\n",
       "white-space: pre;\n",
       "font-family: monospace;\n",
       "}\n",
       ".suggestion-warning { \n",
       "font-weight: bold;\n",
       "color: rgb(200, 130, 0);\n",
       "}\n",
       ".suggestion-error { \n",
       "font-weight: bold;\n",
       "color: red;\n",
       "}\n",
       ".suggestion-name {\n",
       "font-weight: bold;\n",
       "}\n",
       "</style><span class='get-type'>(!) :: forall k a. Ord k => Map k a -> k -> a</span>"
      ],
      "text/plain": [
       "(!) :: forall k a. Ord k => Map k a -> k -> a"
      ]
     },
     "metadata": {},
     "output_type": "display_data"
    },
    {
     "data": {
      "text/html": [
       "<style>/* Styles used for the Hoogle display in the pager */\n",
       ".hoogle-doc {\n",
       "display: block;\n",
       "padding-bottom: 1.3em;\n",
       "padding-left: 0.4em;\n",
       "}\n",
       ".hoogle-code {\n",
       "display: block;\n",
       "font-family: monospace;\n",
       "white-space: pre;\n",
       "}\n",
       ".hoogle-text {\n",
       "display: block;\n",
       "}\n",
       ".hoogle-name {\n",
       "color: green;\n",
       "font-weight: bold;\n",
       "}\n",
       ".hoogle-head {\n",
       "font-weight: bold;\n",
       "}\n",
       ".hoogle-sub {\n",
       "display: block;\n",
       "margin-left: 0.4em;\n",
       "}\n",
       ".hoogle-package {\n",
       "font-weight: bold;\n",
       "font-style: italic;\n",
       "}\n",
       ".hoogle-module {\n",
       "font-weight: bold;\n",
       "}\n",
       ".hoogle-class {\n",
       "font-weight: bold;\n",
       "}\n",
       ".get-type {\n",
       "color: green;\n",
       "font-weight: bold;\n",
       "font-family: monospace;\n",
       "display: block;\n",
       "white-space: pre-wrap;\n",
       "}\n",
       ".show-type {\n",
       "color: green;\n",
       "font-weight: bold;\n",
       "font-family: monospace;\n",
       "margin-left: 1em;\n",
       "}\n",
       ".mono {\n",
       "font-family: monospace;\n",
       "display: block;\n",
       "}\n",
       ".err-msg {\n",
       "color: red;\n",
       "font-style: italic;\n",
       "font-family: monospace;\n",
       "white-space: pre;\n",
       "display: block;\n",
       "}\n",
       "#unshowable {\n",
       "color: red;\n",
       "font-weight: bold;\n",
       "}\n",
       ".err-msg.in.collapse {\n",
       "padding-top: 0.7em;\n",
       "}\n",
       ".highlight-code {\n",
       "white-space: pre;\n",
       "font-family: monospace;\n",
       "}\n",
       ".suggestion-warning { \n",
       "font-weight: bold;\n",
       "color: rgb(200, 130, 0);\n",
       "}\n",
       ".suggestion-error { \n",
       "font-weight: bold;\n",
       "color: red;\n",
       "}\n",
       ".suggestion-name {\n",
       "font-weight: bold;\n",
       "}\n",
       "</style><span class='get-type'>(!?) :: forall k a. Ord k => Map k a -> k -> Maybe a</span>"
      ],
      "text/plain": [
       "(!?) :: forall k a. Ord k => Map k a -> k -> Maybe a"
      ]
     },
     "metadata": {},
     "output_type": "display_data"
    }
   ],
   "source": [
    "import Data.Map (Map, (!), (!?))\n",
    "import qualified Data.Map as Map\n",
    "\n",
    ":type (!)\n",
    ":type (!?)\n",
    "\n",
    "m1 :: Map String SA -- 변수명을 스택 주소에 대응\n",
    "m1 = Map.fromList [(\"x\",0),(\"y\",1),(\"z\",2)]"
   ]
  },
  {
   "cell_type": "code",
   "execution_count": 24,
   "metadata": {},
   "outputs": [
    {
     "data": {
      "text/plain": [
       "1"
      ]
     },
     "metadata": {},
     "output_type": "display_data"
    },
    {
     "ename": "",
     "evalue": "",
     "header": "MessageHeader {mhIdentifiers = [\"50f34051-246b-47d1-86ea-acbe162c3925\"], mhParentHeader = Just (MessageHeader {mhIdentifiers = [\"50f34051-246b-47d1-86ea-acbe162c3925\"], mhParentHeader = Nothing, mhMetadata = Metadata (fromList [(\"recordTiming\",Bool False),(\"deletedCells\",Array []),(\"cellId\",String \"71ae41de-20cd-4eed-a815-4d14c379105e\")]), mhMessageId = UUID {uuidToString = \"448c08a7-6554-4d2e-b646-eab1b6ab55d3\"}, mhSessionId = UUID {uuidToString = \"50f34051-246b-47d1-86ea-acbe162c3925\"}, mhUsername = \"\", mhMsgType = ExecuteRequestMessage, mhBuffers = []}), mhMetadata = Metadata (fromList []), mhMessageId = UUID {uuidToString = \"96961779-5564-4778-bf91-6bfbe271a5da\"}, mhSessionId = UUID {uuidToString = \"50f34051-246b-47d1-86ea-acbe162c3925\"}, mhUsername = \"\", mhMsgType = ExecuteErrorMessage, mhBuffers = []}",
     "output_type": "error",
     "traceback": [
      "Map.!: given key is not an element in the map\nCallStack (from HasCallStack):\n  error, called at libraries/containers/Data/Map/Internal.hs:610:17 in containers-0.6.0.1:Data.Map.Internal"
     ]
    }
   ],
   "source": [
    "m1 ! \"y\"\n",
    "m1 ! \"w\""
   ]
  },
  {
   "cell_type": "code",
   "execution_count": 25,
   "metadata": {},
   "outputs": [
    {
     "data": {
      "text/plain": [
       "Just 1"
      ]
     },
     "metadata": {},
     "output_type": "display_data"
    },
    {
     "data": {
      "text/plain": [
       "Nothing"
      ]
     },
     "metadata": {},
     "output_type": "display_data"
    }
   ],
   "source": [
    "m1 !? \"y\"\n",
    "m1 !? \"w\""
   ]
  },
  {
   "cell_type": "markdown",
   "metadata": {},
   "source": [
    "<br>\n",
    "\n",
    "아래와 같은 프로그램을 손컴파일한다면?\n",
    "\n",
    "```c\n",
    "int x = 1000;\n",
    "int i = 1;\n",
    "while (i < 5) {\n",
    "    x <- x + i;\n",
    "    i <- i + 1;\n",
    "}\n",
    "```"
   ]
  },
  {
   "cell_type": "code",
   "execution_count": 53,
   "metadata": {},
   "outputs": [],
   "source": [
    "lbis2 = -- 빈 스택으로 시작한다고 가저하자\n",
    "    [ \"\"    :. LOADc 1000   -- x 초기화: 스택 주소 0에 값 1000을 불러들이기\n",
    "    , \"\"    :. LOADc 1      -- i 초기화: 스택 주소 1에 값 1을 불러들이기\n",
    "    , \"loop\":. DUP\n",
    "    , \"\"    :. LOADc 5\n",
    "    , \"\"    :. LE\n",
    "    , \"\"    :. JUMPz \"end\"\n",
    "    , \"\"    :. LOADc 0 -- x의 스택 주소\n",
    "    , \"\"    :. LOAD    -- x값 스택 맨 위에 불러오기\n",
    "    , \"\"    :. LOADc 1 -- i의 스택 주소\n",
    "    , \"\"    :. LOAD    -- i값 스택 맨 위에 불러오기\n",
    "    , \"\"    :. ADD\n",
    "    , \"\"    :. LOADc 0 -- x의 스택 주소\n",
    "    , \"\"    :. STORE   -- x에 저장\n",
    "    , \"\"    :. POP\n",
    "    , \"\"    :. LOADc 1\n",
    "    , \"\"    :. ADD\n",
    "    , \"\"    :. JUMP  \"loop\"\n",
    "    , \"end\" :. HALT\n",
    "    ]\n",
    "\n",
    "is2 = assemble lbis2"
   ]
  },
  {
   "cell_type": "code",
   "execution_count": 54,
   "metadata": {},
   "outputs": [
    {
     "data": {
      "text/plain": [
       "[LOADc 1000,LOADc 1,DUP,LOADc 5,LE,JUMPz ...,LOADc 0,LOAD,LOADc 1,LOAD,ADD,LOADc 0,STORE,POP,LOADc 1,ADD,JUMP ...,HALT]"
      ]
     },
     "metadata": {},
     "output_type": "display_data"
    }
   ],
   "source": [
    "is2"
   ]
  },
  {
   "cell_type": "code",
   "execution_count": 27,
   "metadata": {},
   "outputs": [
    {
     "data": {
      "text/plain": [
       "{ stack = []\n",
       " , code = [LOADc 1000,LOADc 1,DUP,LOADc 5,LE,JUMPz ...,LOADc 0,LOAD,LOADc 1,LOAD,ADD,LOADc 0,STORE,POP,LOADc 1,ADD,JUMP ...,HALT] }\n",
       "{ stack = [1000]\n",
       " , code = [LOADc 1,DUP,LOADc 5,LE,JUMPz ...,LOADc 0,LOAD,LOADc 1,LOAD,ADD,LOADc 0,STORE,POP,LOADc 1,ADD,JUMP ...,HALT] }\n",
       "{ stack = [1,1000]\n",
       " , code = [DUP,LOADc 5,LE,JUMPz ...,LOADc 0,LOAD,LOADc 1,LOAD,ADD,LOADc 0,STORE,POP,LOADc 1,ADD,JUMP ...,HALT] }\n",
       "{ stack = [1,1,1000]\n",
       " , code = [LOADc 5,LE,JUMPz ...,LOADc 0,LOAD,LOADc 1,LOAD,ADD,LOADc 0,STORE,POP,LOADc 1,ADD,JUMP ...,HALT] }\n",
       "{ stack = [5,1,1,1000]\n",
       " , code = [LE,JUMPz ...,LOADc 0,LOAD,LOADc 1,LOAD,ADD,LOADc 0,STORE,POP,LOADc 1,ADD,JUMP ...,HALT] }\n",
       "{ stack = [1,1,1000]\n",
       " , code = [JUMPz ...,LOADc 0,LOAD,LOADc 1,LOAD,ADD,LOADc 0,STORE,POP,LOADc 1,ADD,JUMP ...,HALT] }\n",
       "{ stack = [1,1000]\n",
       " , code = [LOADc 0,LOAD,LOADc 1,LOAD,ADD,LOADc 0,STORE,POP,LOADc 1,ADD,JUMP ...,HALT] }\n",
       "{ stack = [0,1,1000]\n",
       " , code = [LOAD,LOADc 1,LOAD,ADD,LOADc 0,STORE,POP,LOADc 1,ADD,JUMP ...,HALT] }\n",
       "{ stack = [1000,1,1000]\n",
       " , code = [LOADc 1,LOAD,ADD,LOADc 0,STORE,POP,LOADc 1,ADD,JUMP ...,HALT] }\n",
       "{ stack = [1,1000,1,1000]\n",
       " , code = [LOAD,ADD,LOADc 0,STORE,POP,LOADc 1,ADD,JUMP ...,HALT] }\n",
       "{ stack = [1,1000,1,1000]\n",
       " , code = [ADD,LOADc 0,STORE,POP,LOADc 1,ADD,JUMP ...,HALT] }\n",
       "{ stack = [1001,1,1000]\n",
       " , code = [LOADc 0,STORE,POP,LOADc 1,ADD,JUMP ...,HALT] }\n",
       "{ stack = [0,1001,1,1000]\n",
       " , code = [STORE,POP,LOADc 1,ADD,JUMP ...,HALT] }\n",
       "{ stack = [1001,1,1001]\n",
       " , code = [POP,LOADc 1,ADD,JUMP ...,HALT] }\n",
       "{ stack = [1,1001]\n",
       " , code = [LOADc 1,ADD,JUMP ...,HALT] }\n",
       "{ stack = [1,1,1001]\n",
       " , code = [ADD,JUMP ...,HALT] }\n",
       "{ stack = [2,1001]\n",
       " , code = [JUMP ...,HALT] }\n",
       "{ stack = [2,1001]\n",
       " , code = [DUP,LOADc 5,LE,JUMPz ...,LOADc 0,LOAD,LOADc 1,LOAD,ADD,LOADc 0,STORE,POP,LOADc 1,ADD,JUMP ...,HALT] }\n",
       "{ stack = [2,2,1001]\n",
       " , code = [LOADc 5,LE,JUMPz ...,LOADc 0,LOAD,LOADc 1,LOAD,ADD,LOADc 0,STORE,POP,LOADc 1,ADD,JUMP ...,HALT] }\n",
       "{ stack = [5,2,2,1001]\n",
       " , code = [LE,JUMPz ...,LOADc 0,LOAD,LOADc 1,LOAD,ADD,LOADc 0,STORE,POP,LOADc 1,ADD,JUMP ...,HALT] }\n",
       "{ stack = [1,2,1001]\n",
       " , code = [JUMPz ...,LOADc 0,LOAD,LOADc 1,LOAD,ADD,LOADc 0,STORE,POP,LOADc 1,ADD,JUMP ...,HALT] }\n",
       "{ stack = [2,1001]\n",
       " , code = [LOADc 0,LOAD,LOADc 1,LOAD,ADD,LOADc 0,STORE,POP,LOADc 1,ADD,JUMP ...,HALT] }\n",
       "{ stack = [0,2,1001]\n",
       " , code = [LOAD,LOADc 1,LOAD,ADD,LOADc 0,STORE,POP,LOADc 1,ADD,JUMP ...,HALT] }\n",
       "{ stack = [1001,2,1001]\n",
       " , code = [LOADc 1,LOAD,ADD,LOADc 0,STORE,POP,LOADc 1,ADD,JUMP ...,HALT] }\n",
       "{ stack = [1,1001,2,1001]\n",
       " , code = [LOAD,ADD,LOADc 0,STORE,POP,LOADc 1,ADD,JUMP ...,HALT] }\n",
       "{ stack = [2,1001,2,1001]\n",
       " , code = [ADD,LOADc 0,STORE,POP,LOADc 1,ADD,JUMP ...,HALT] }\n",
       "{ stack = [1003,2,1001]\n",
       " , code = [LOADc 0,STORE,POP,LOADc 1,ADD,JUMP ...,HALT] }\n",
       "{ stack = [0,1003,2,1001]\n",
       " , code = [STORE,POP,LOADc 1,ADD,JUMP ...,HALT] }\n",
       "{ stack = [1003,2,1003]\n",
       " , code = [POP,LOADc 1,ADD,JUMP ...,HALT] }\n",
       "{ stack = [2,1003]\n",
       " , code = [LOADc 1,ADD,JUMP ...,HALT] }\n",
       "{ stack = [1,2,1003]\n",
       " , code = [ADD,JUMP ...,HALT] }\n",
       "{ stack = [3,1003]\n",
       " , code = [JUMP ...,HALT] }\n",
       "{ stack = [3,1003]\n",
       " , code = [DUP,LOADc 5,LE,JUMPz ...,LOADc 0,LOAD,LOADc 1,LOAD,ADD,LOADc 0,STORE,POP,LOADc 1,ADD,JUMP ...,HALT] }\n",
       "{ stack = [3,3,1003]\n",
       " , code = [LOADc 5,LE,JUMPz ...,LOADc 0,LOAD,LOADc 1,LOAD,ADD,LOADc 0,STORE,POP,LOADc 1,ADD,JUMP ...,HALT] }\n",
       "{ stack = [5,3,3,1003]\n",
       " , code = [LE,JUMPz ...,LOADc 0,LOAD,LOADc 1,LOAD,ADD,LOADc 0,STORE,POP,LOADc 1,ADD,JUMP ...,HALT] }\n",
       "{ stack = [1,3,1003]\n",
       " , code = [JUMPz ...,LOADc 0,LOAD,LOADc 1,LOAD,ADD,LOADc 0,STORE,POP,LOADc 1,ADD,JUMP ...,HALT] }\n",
       "{ stack = [3,1003]\n",
       " , code = [LOADc 0,LOAD,LOADc 1,LOAD,ADD,LOADc 0,STORE,POP,LOADc 1,ADD,JUMP ...,HALT] }\n",
       "{ stack = [0,3,1003]\n",
       " , code = [LOAD,LOADc 1,LOAD,ADD,LOADc 0,STORE,POP,LOADc 1,ADD,JUMP ...,HALT] }\n",
       "{ stack = [1003,3,1003]\n",
       " , code = [LOADc 1,LOAD,ADD,LOADc 0,STORE,POP,LOADc 1,ADD,JUMP ...,HALT] }\n",
       "{ stack = [1,1003,3,1003]\n",
       " , code = [LOAD,ADD,LOADc 0,STORE,POP,LOADc 1,ADD,JUMP ...,HALT] }\n",
       "{ stack = [3,1003,3,1003]\n",
       " , code = [ADD,LOADc 0,STORE,POP,LOADc 1,ADD,JUMP ...,HALT] }\n",
       "{ stack = [1006,3,1003]\n",
       " , code = [LOADc 0,STORE,POP,LOADc 1,ADD,JUMP ...,HALT] }\n",
       "{ stack = [0,1006,3,1003]\n",
       " , code = [STORE,POP,LOADc 1,ADD,JUMP ...,HALT] }\n",
       "{ stack = [1006,3,1006]\n",
       " , code = [POP,LOADc 1,ADD,JUMP ...,HALT] }\n",
       "{ stack = [3,1006]\n",
       " , code = [LOADc 1,ADD,JUMP ...,HALT] }\n",
       "{ stack = [1,3,1006]\n",
       " , code = [ADD,JUMP ...,HALT] }\n",
       "{ stack = [4,1006]\n",
       " , code = [JUMP ...,HALT] }\n",
       "{ stack = [4,1006]\n",
       " , code = [DUP,LOADc 5,LE,JUMPz ...,LOADc 0,LOAD,LOADc 1,LOAD,ADD,LOADc 0,STORE,POP,LOADc 1,ADD,JUMP ...,HALT] }\n",
       "{ stack = [4,4,1006]\n",
       " , code = [LOADc 5,LE,JUMPz ...,LOADc 0,LOAD,LOADc 1,LOAD,ADD,LOADc 0,STORE,POP,LOADc 1,ADD,JUMP ...,HALT] }\n",
       "{ stack = [5,4,4,1006]\n",
       " , code = [LE,JUMPz ...,LOADc 0,LOAD,LOADc 1,LOAD,ADD,LOADc 0,STORE,POP,LOADc 1,ADD,JUMP ...,HALT] }\n",
       "{ stack = [1,4,1006]\n",
       " , code = [JUMPz ...,LOADc 0,LOAD,LOADc 1,LOAD,ADD,LOADc 0,STORE,POP,LOADc 1,ADD,JUMP ...,HALT] }\n",
       "{ stack = [4,1006]\n",
       " , code = [LOADc 0,LOAD,LOADc 1,LOAD,ADD,LOADc 0,STORE,POP,LOADc 1,ADD,JUMP ...,HALT] }\n",
       "{ stack = [0,4,1006]\n",
       " , code = [LOAD,LOADc 1,LOAD,ADD,LOADc 0,STORE,POP,LOADc 1,ADD,JUMP ...,HALT] }\n",
       "{ stack = [1006,4,1006]\n",
       " , code = [LOADc 1,LOAD,ADD,LOADc 0,STORE,POP,LOADc 1,ADD,JUMP ...,HALT] }\n",
       "{ stack = [1,1006,4,1006]\n",
       " , code = [LOAD,ADD,LOADc 0,STORE,POP,LOADc 1,ADD,JUMP ...,HALT] }\n",
       "{ stack = [4,1006,4,1006]\n",
       " , code = [ADD,LOADc 0,STORE,POP,LOADc 1,ADD,JUMP ...,HALT] }\n",
       "{ stack = [1010,4,1006]\n",
       " , code = [LOADc 0,STORE,POP,LOADc 1,ADD,JUMP ...,HALT] }\n",
       "{ stack = [0,1010,4,1006]\n",
       " , code = [STORE,POP,LOADc 1,ADD,JUMP ...,HALT] }\n",
       "{ stack = [1010,4,1010]\n",
       " , code = [POP,LOADc 1,ADD,JUMP ...,HALT] }\n",
       "{ stack = [4,1010]\n",
       " , code = [LOADc 1,ADD,JUMP ...,HALT] }\n",
       "{ stack = [1,4,1010]\n",
       " , code = [ADD,JUMP ...,HALT] }\n",
       "{ stack = [5,1010]\n",
       " , code = [JUMP ...,HALT] }\n",
       "{ stack = [5,1010]\n",
       " , code = [DUP,LOADc 5,LE,JUMPz ...,LOADc 0,LOAD,LOADc 1,LOAD,ADD,LOADc 0,STORE,POP,LOADc 1,ADD,JUMP ...,HALT] }\n",
       "{ stack = [5,5,1010]\n",
       " , code = [LOADc 5,LE,JUMPz ...,LOADc 0,LOAD,LOADc 1,LOAD,ADD,LOADc 0,STORE,POP,LOADc 1,ADD,JUMP ...,HALT] }\n",
       "{ stack = [5,5,5,1010]\n",
       " , code = [LE,JUMPz ...,LOADc 0,LOAD,LOADc 1,LOAD,ADD,LOADc 0,STORE,POP,LOADc 1,ADD,JUMP ...,HALT] }\n",
       "{ stack = [0,5,1010]\n",
       " , code = [JUMPz ...,LOADc 0,LOAD,LOADc 1,LOAD,ADD,LOADc 0,STORE,POP,LOADc 1,ADD,JUMP ...,HALT] }\n",
       "{ stack = [5,1010]\n",
       " , code = [HALT] }\n",
       "{ stack = [5,1010]\n",
       " , code = [] }"
      ]
     },
     "metadata": {},
     "output_type": "display_data"
    }
   ],
   "source": [
    "mapM_ print $ exec (is2,[])"
   ]
  },
  {
   "cell_type": "markdown",
   "metadata": {},
   "source": [
    "<br>\n",
    "\n",
    "이제 책 Fig.2.8 (p.13) 에 나온 C언어 코드를 CMa 명령 코드으로 컴파일하는 함수들을 직접 구현해 보자.\n",
    "**식**(expression)을 컴파일하는 `codeR` 및 `codeL`과\n",
    "**문**(statement)을 컴파일하는 `code`를 하스켈로 작성해 보자."
   ]
  },
  {
   "cell_type": "code",
   "execution_count": 55,
   "metadata": {},
   "outputs": [],
   "source": [
    "data Expr\n",
    "    = Lit Int        -- n   (integer literal)\n",
    "    | Var String     -- x\n",
    "    | Neg Expr       -- -e\n",
    "    | Add Expr Expr  -- e1 + 2e\n",
    "    | Sub Expr Expr  -- e1 - e2\n",
    "    | Mul Expr Expr  -- e1 * e2\n",
    "    | Div Expr Expr  -- e1 / e2\n",
    "    | And Expr Expr  -- e1 + e2\n",
    "    | Or  Expr Expr  -- e1 || e2\n",
    "    | Equ Expr Expr  -- e1 == e2\n",
    "    | Neq Expr Expr  -- e1 /= e2\n",
    "    | Gr  Expr Expr  -- e1 >  e2\n",
    "    | Geq Expr Expr  -- e1 >= e2\n",
    "    | Le  Expr Expr  -- e1 <= e2\n",
    "    | Leq Expr Expr  -- e1 <  e2\n",
    "    | Assign Expr Expr  -- eL <- eR    (assignment expression. 실제 C문법으로는 eL = eR)\n",
    "    deriving (Eq,Ord,Show)\n",
    "\n",
    "data Stmt\n",
    "    = EStmt Expr                -- e;  (expression as statement)\n",
    "    | Block [Stmt]              -- { s1; ...; sn; }\n",
    "    | If Expr Stmt (Maybe Stmt) -- if (e) s  또는  if (e) s1 else s0\n",
    "    | While Expr Stmt           -- while (e) s\n",
    "    | For (Expr,Expr,Expr) Stmt -- for (e1;e2;e3) s\n",
    "    deriving (Eq,Ord,Show)"
   ]
  },
  {
   "cell_type": "code",
   "execution_count": 57,
   "metadata": {},
   "outputs": [],
   "source": [
    "import Data.Map (Map, (!), (!?))\n",
    "import qualified Data.Map as Map\n",
    "\n",
    "type AEnv = Map String SA\n",
    "\n",
    "codeR :: Expr -> AEnv -> Code\n",
    "codeR (Lit q) _ = [ LOADc q ]\n",
    "codeR (Var x) ρ = codeL (Var x) ρ ++ [ LOAD ]\n",
    "codeR (Neg e) ρ = codeR e ρ ++ [NEG]\n",
    "codeR (Add e1 e2) ρ = codeR e1 ρ ++ codeR e2 ρ ++ [ADD]\n",
    "codeR (Sub e1 e2) ρ = codeR e1 ρ ++ codeR e2 ρ ++ [SUB]\n",
    "codeR (Mul e1 e2) ρ = codeR e1 ρ ++ codeR e2 ρ ++ [MUL]\n",
    "codeR (Div e1 e2) ρ = codeR e1 ρ ++ codeR e2 ρ ++ [DIV]\n",
    "codeR (And e1 e2) ρ = codeR e1 ρ ++ codeR e2 ρ ++ [AND]\n",
    "codeR (Or  e1 e2) ρ = codeR e1 ρ ++ codeR e2 ρ ++ [OR]\n",
    "codeR (Equ e1 e2) ρ = codeR e1 ρ ++ codeR e2 ρ ++ [EQU]\n",
    "codeR (Neq e1 e2) ρ = codeR e1 ρ ++ codeR e2 ρ ++ [NEQ]\n",
    "codeR (Gr  e1 e2) ρ = codeR e1 ρ ++ codeR e2 ρ ++ [GR]\n",
    "codeR (Geq e1 e2) ρ = codeR e1 ρ ++ codeR e2 ρ ++ [GEQ]\n",
    "codeR (Le  e1 e2) ρ = codeR e1 ρ ++ codeR e2 ρ ++ [LE]\n",
    "codeR (Leq e1 e2) ρ = codeR e1 ρ ++ codeR e2 ρ ++ [LEQ]\n",
    "codeR (Assign eL eR) ρ = codeR eR ρ ++ codeL eL ρ ++ [STORE]\n",
    "codeR e _ = error $ \"R-value not defined: \"++show e\n",
    "\n",
    "codeL :: Expr -> AEnv -> Code\n",
    "codeL (Var x) ρ = [ LOADc (ρ ! x) ]\n",
    "codeL e       _   = error $ \"L-value not defined: \"++show e\n",
    "\n",
    "code :: Stmt -> AEnv -> Code\n",
    "code (EStmt e) ρ = codeR e ρ ++ [POP]\n",
    "code (Block ss) ρ = concat [code s ρ | s <- ss]\n",
    "code (If e s Nothing) ρ =\n",
    "       codeR e ρ ++ [ JUMPz (PA []) ]\n",
    "    ++ code s ρ\n",
    "code (If e s1 (Just s0)) ρ =\n",
    "       codeR e ρ ++ [ JUMPz (PA c0) ]\n",
    "    ++ c1 ++ [ JUMP (PA []) ]\n",
    "    ++ c0\n",
    "    where\n",
    "        c1 = code s1 ρ\n",
    "        c0 = code s0 ρ\n",
    "code (While e s) ρ = c\n",
    "    where c = codeR e ρ ++ [ JUMPz (PA []) ]\n",
    "           ++ code s ρ ++ [ JUMP (PA c) ]\n",
    "code (For (e1,e2,e3) s) ρ = code (Block ss) ρ\n",
    "    where ss = [ EStmt e1\n",
    "               , While e2 $ Block [s, EStmt e3]\n",
    "               ] "
   ]
  },
  {
   "cell_type": "markdown",
   "metadata": {},
   "source": [
    "지금은 변수 메모리 공간은 미리 할당되어 있다고 가정한다.\n",
    "즉, 적절한 *주소환경*(address environment)과 그에 맞는 크기의 stack으로 시작한다고 가정한다는 말이다.\n",
    "\n",
    "예컨대, 아래 코드를 컴파일한다면\n",
    "$\\rho = \\{x\\mapsto 0,\\, i\\mapsto 1\\}$라는 주소환경으로\n",
    "$x$와 $i$에 값을 저장할 주소를 미리 정해 놓고 초기 스택도 그에\n",
    "맞춰 미리 크기를 잡아 놓고 시작하기로 하자. \n",
    "\n",
    "```c\n",
    "int x = 1000;\n",
    "int i = 1;\n",
    "\n",
    "x <- x + i;\n",
    "i <- i + 1;\n",
    "```\n",
    "\n",
    "주소환경과 초기 스택을 적절하게 구성해 놓은 상태로 시작한다면 위 코드는 사실상 아래와 같은 코드를 컴파일하는 것과 같다.\n",
    "\n",
    "```c\n",
    "x <- 1000;\n",
    "i <- 1;\n",
    "\n",
    "x <- x + i;\n",
    "i <- i + 1;\n",
    "```"
   ]
  },
  {
   "cell_type": "code",
   "execution_count": 62,
   "metadata": {},
   "outputs": [],
   "source": [
    "stmt3 = Block \n",
    "    [ EStmt $ Assign (Var \"x\") (Lit 1000)\n",
    "    , EStmt $ Assign (Var \"i\") (Lit 1)\n",
    "    , EStmt $ Assign (Var \"x\") (Add (Var \"x\") (Var \"i\"))\n",
    "    , EStmt $ Assign (Var \"i\") (Add (Var \"i\") (Lit 1))\n",
    "    ]"
   ]
  },
  {
   "cell_type": "code",
   "execution_count": 65,
   "metadata": {},
   "outputs": [],
   "source": [
    "is3 = code stmt3 (Map.fromList [(\"x\",0),(\"i\",1)])"
   ]
  },
  {
   "cell_type": "code",
   "execution_count": 66,
   "metadata": {},
   "outputs": [
    {
     "data": {
      "text/plain": [
       "[LOADc 1000,LOADc 0,STORE,POP,LOADc 1,LOADc 1,STORE,POP,LOADc 0,LOAD,LOADc 1,LOAD,ADD,LOADc 0,STORE,POP,LOADc 1,LOAD,LOADc 1,ADD,LOADc 1,STORE,POP]"
      ]
     },
     "metadata": {},
     "output_type": "display_data"
    }
   ],
   "source": [
    "is3"
   ]
  },
  {
   "cell_type": "code",
   "execution_count": 67,
   "metadata": {},
   "outputs": [
    {
     "data": {
      "text/plain": [
       "{ stack = [0,0]\n",
       " , code = [LOADc 1000,LOADc 0,STORE,POP,LOADc 1,LOADc 1,STORE,POP,LOADc 0,LOAD,LOADc 1,LOAD,ADD,LOADc 0,STORE,POP,LOADc 1,LOAD,LOADc 1,ADD,LOADc 1,STORE,POP] }\n",
       "{ stack = [1000,0,0]\n",
       " , code = [LOADc 0,STORE,POP,LOADc 1,LOADc 1,STORE,POP,LOADc 0,LOAD,LOADc 1,LOAD,ADD,LOADc 0,STORE,POP,LOADc 1,LOAD,LOADc 1,ADD,LOADc 1,STORE,POP] }\n",
       "{ stack = [0,1000,0,0]\n",
       " , code = [STORE,POP,LOADc 1,LOADc 1,STORE,POP,LOADc 0,LOAD,LOADc 1,LOAD,ADD,LOADc 0,STORE,POP,LOADc 1,LOAD,LOADc 1,ADD,LOADc 1,STORE,POP] }\n",
       "{ stack = [1000,0,1000]\n",
       " , code = [POP,LOADc 1,LOADc 1,STORE,POP,LOADc 0,LOAD,LOADc 1,LOAD,ADD,LOADc 0,STORE,POP,LOADc 1,LOAD,LOADc 1,ADD,LOADc 1,STORE,POP] }\n",
       "{ stack = [0,1000]\n",
       " , code = [LOADc 1,LOADc 1,STORE,POP,LOADc 0,LOAD,LOADc 1,LOAD,ADD,LOADc 0,STORE,POP,LOADc 1,LOAD,LOADc 1,ADD,LOADc 1,STORE,POP] }\n",
       "{ stack = [1,0,1000]\n",
       " , code = [LOADc 1,STORE,POP,LOADc 0,LOAD,LOADc 1,LOAD,ADD,LOADc 0,STORE,POP,LOADc 1,LOAD,LOADc 1,ADD,LOADc 1,STORE,POP] }\n",
       "{ stack = [1,1,0,1000]\n",
       " , code = [STORE,POP,LOADc 0,LOAD,LOADc 1,LOAD,ADD,LOADc 0,STORE,POP,LOADc 1,LOAD,LOADc 1,ADD,LOADc 1,STORE,POP] }\n",
       "{ stack = [1,1,1000]\n",
       " , code = [POP,LOADc 0,LOAD,LOADc 1,LOAD,ADD,LOADc 0,STORE,POP,LOADc 1,LOAD,LOADc 1,ADD,LOADc 1,STORE,POP] }\n",
       "{ stack = [1,1000]\n",
       " , code = [LOADc 0,LOAD,LOADc 1,LOAD,ADD,LOADc 0,STORE,POP,LOADc 1,LOAD,LOADc 1,ADD,LOADc 1,STORE,POP] }\n",
       "{ stack = [0,1,1000]\n",
       " , code = [LOAD,LOADc 1,LOAD,ADD,LOADc 0,STORE,POP,LOADc 1,LOAD,LOADc 1,ADD,LOADc 1,STORE,POP] }\n",
       "{ stack = [1000,1,1000]\n",
       " , code = [LOADc 1,LOAD,ADD,LOADc 0,STORE,POP,LOADc 1,LOAD,LOADc 1,ADD,LOADc 1,STORE,POP] }\n",
       "{ stack = [1,1000,1,1000]\n",
       " , code = [LOAD,ADD,LOADc 0,STORE,POP,LOADc 1,LOAD,LOADc 1,ADD,LOADc 1,STORE,POP] }\n",
       "{ stack = [1,1000,1,1000]\n",
       " , code = [ADD,LOADc 0,STORE,POP,LOADc 1,LOAD,LOADc 1,ADD,LOADc 1,STORE,POP] }\n",
       "{ stack = [1001,1,1000]\n",
       " , code = [LOADc 0,STORE,POP,LOADc 1,LOAD,LOADc 1,ADD,LOADc 1,STORE,POP] }\n",
       "{ stack = [0,1001,1,1000]\n",
       " , code = [STORE,POP,LOADc 1,LOAD,LOADc 1,ADD,LOADc 1,STORE,POP] }\n",
       "{ stack = [1001,1,1001]\n",
       " , code = [POP,LOADc 1,LOAD,LOADc 1,ADD,LOADc 1,STORE,POP] }\n",
       "{ stack = [1,1001]\n",
       " , code = [LOADc 1,LOAD,LOADc 1,ADD,LOADc 1,STORE,POP] }\n",
       "{ stack = [1,1,1001]\n",
       " , code = [LOAD,LOADc 1,ADD,LOADc 1,STORE,POP] }\n",
       "{ stack = [1,1,1001]\n",
       " , code = [LOADc 1,ADD,LOADc 1,STORE,POP] }\n",
       "{ stack = [1,1,1,1001]\n",
       " , code = [ADD,LOADc 1,STORE,POP] }\n",
       "{ stack = [2,1,1001]\n",
       " , code = [LOADc 1,STORE,POP] }\n",
       "{ stack = [1,2,1,1001]\n",
       " , code = [STORE,POP] }\n",
       "{ stack = [2,2,1001]\n",
       " , code = [POP] }\n",
       "{ stack = [2,1001]\n",
       " , code = [] }"
      ]
     },
     "metadata": {},
     "output_type": "display_data"
    }
   ],
   "source": [
    "mapM_ print $ exec (is3,[0,0])"
   ]
  },
  {
   "cell_type": "code",
   "execution_count": 69,
   "metadata": {},
   "outputs": [
    {
     "data": {
      "text/plain": [
       "{ stack = [2,1001]\n",
       " , code = [] }"
      ]
     },
     "metadata": {},
     "output_type": "display_data"
    }
   ],
   "source": [
    "run (is3,[1,1000])"
   ]
  },
  {
   "cell_type": "markdown",
   "metadata": {},
   "source": [
    "<br>\n",
    "\n",
    "이번엔 이 프로그램을 컴파일해 보자.\n",
    "\n",
    "```c\n",
    "int x = 1000;\n",
    "int i = 1;\n",
    "while (i < 5) {\n",
    "    x <- x + i;\n",
    "    i <- i + 1;\n",
    "}\n",
    "```\n",
    "\n",
    "마찬가지로 $x$와 $i$에 대한 적절한 주소환경 $\\{x\\mapsto 0,\\,i\\mapsto 1\\}$과 초기 스택으로 시작한다고 가정한다면 아래 코드를 컴파일하면 되는 것이다.\n",
    "```c\n",
    "x <- 1000;\n",
    "i <- 1;\n",
    "while (i < 5) {\n",
    "    x <- x + i;\n",
    "    i <- i + 1;\n",
    "}\n",
    "```"
   ]
  },
  {
   "cell_type": "code",
   "execution_count": 70,
   "metadata": {},
   "outputs": [],
   "source": [
    "stmt4 = Block \n",
    "    [ EStmt $ Assign (Var \"x\") (Lit 1000)                      -- x <- 1000\n",
    "    , EStmt $ Assign (Var \"i\") (Lit 1)                         -- x <- 1\n",
    "    , While (Le (Var \"i\") (Lit 5)) $ Block                     -- while (i < 5) {\n",
    "        [ EStmt $ Assign (Var \"x\") (Add (Var \"x\") (Var \"i\"))   --   x <- x + i;\n",
    "        , EStmt $ Assign (Var \"i\") (Add (Var \"i\") (Lit 1))     --   i <- i + 1;\n",
    "        ]                                                      -- }\n",
    "    ]"
   ]
  },
  {
   "cell_type": "code",
   "execution_count": 71,
   "metadata": {},
   "outputs": [],
   "source": [
    "is4 = code stmt4 (Map.fromList [(\"x\",0),(\"i\",1)])"
   ]
  },
  {
   "cell_type": "code",
   "execution_count": 72,
   "metadata": {},
   "outputs": [
    {
     "data": {
      "text/plain": [
       "[LOADc 1000,LOADc 0,STORE,POP,LOADc 1,LOADc 1,STORE,POP,LOADc 1,LOAD,LOADc 5,LE,JUMPz ...,LOADc 0,LOAD,LOADc 1,LOAD,ADD,LOADc 0,STORE,POP,LOADc 1,LOAD,LOADc 1,ADD,LOADc 1,STORE,POP,JUMP ...]"
      ]
     },
     "metadata": {},
     "output_type": "display_data"
    }
   ],
   "source": [
    "is4"
   ]
  },
  {
   "cell_type": "code",
   "execution_count": 73,
   "metadata": {},
   "outputs": [
    {
     "data": {
      "text/plain": [
       "{ stack = [0,0]\n",
       " , code = [LOADc 1000,LOADc 0,STORE,POP,LOADc 1,LOADc 1,STORE,POP,LOADc 1,LOAD,LOADc 5,LE,JUMPz ...,LOADc 0,LOAD,LOADc 1,LOAD,ADD,LOADc 0,STORE,POP,LOADc 1,LOAD,LOADc 1,ADD,LOADc 1,STORE,POP,JUMP ...] }\n",
       "{ stack = [1000,0,0]\n",
       " , code = [LOADc 0,STORE,POP,LOADc 1,LOADc 1,STORE,POP,LOADc 1,LOAD,LOADc 5,LE,JUMPz ...,LOADc 0,LOAD,LOADc 1,LOAD,ADD,LOADc 0,STORE,POP,LOADc 1,LOAD,LOADc 1,ADD,LOADc 1,STORE,POP,JUMP ...] }\n",
       "{ stack = [0,1000,0,0]\n",
       " , code = [STORE,POP,LOADc 1,LOADc 1,STORE,POP,LOADc 1,LOAD,LOADc 5,LE,JUMPz ...,LOADc 0,LOAD,LOADc 1,LOAD,ADD,LOADc 0,STORE,POP,LOADc 1,LOAD,LOADc 1,ADD,LOADc 1,STORE,POP,JUMP ...] }\n",
       "{ stack = [1000,0,1000]\n",
       " , code = [POP,LOADc 1,LOADc 1,STORE,POP,LOADc 1,LOAD,LOADc 5,LE,JUMPz ...,LOADc 0,LOAD,LOADc 1,LOAD,ADD,LOADc 0,STORE,POP,LOADc 1,LOAD,LOADc 1,ADD,LOADc 1,STORE,POP,JUMP ...] }\n",
       "{ stack = [0,1000]\n",
       " , code = [LOADc 1,LOADc 1,STORE,POP,LOADc 1,LOAD,LOADc 5,LE,JUMPz ...,LOADc 0,LOAD,LOADc 1,LOAD,ADD,LOADc 0,STORE,POP,LOADc 1,LOAD,LOADc 1,ADD,LOADc 1,STORE,POP,JUMP ...] }\n",
       "{ stack = [1,0,1000]\n",
       " , code = [LOADc 1,STORE,POP,LOADc 1,LOAD,LOADc 5,LE,JUMPz ...,LOADc 0,LOAD,LOADc 1,LOAD,ADD,LOADc 0,STORE,POP,LOADc 1,LOAD,LOADc 1,ADD,LOADc 1,STORE,POP,JUMP ...] }\n",
       "{ stack = [1,1,0,1000]\n",
       " , code = [STORE,POP,LOADc 1,LOAD,LOADc 5,LE,JUMPz ...,LOADc 0,LOAD,LOADc 1,LOAD,ADD,LOADc 0,STORE,POP,LOADc 1,LOAD,LOADc 1,ADD,LOADc 1,STORE,POP,JUMP ...] }\n",
       "{ stack = [1,1,1000]\n",
       " , code = [POP,LOADc 1,LOAD,LOADc 5,LE,JUMPz ...,LOADc 0,LOAD,LOADc 1,LOAD,ADD,LOADc 0,STORE,POP,LOADc 1,LOAD,LOADc 1,ADD,LOADc 1,STORE,POP,JUMP ...] }\n",
       "{ stack = [1,1000]\n",
       " , code = [LOADc 1,LOAD,LOADc 5,LE,JUMPz ...,LOADc 0,LOAD,LOADc 1,LOAD,ADD,LOADc 0,STORE,POP,LOADc 1,LOAD,LOADc 1,ADD,LOADc 1,STORE,POP,JUMP ...] }\n",
       "{ stack = [1,1,1000]\n",
       " , code = [LOAD,LOADc 5,LE,JUMPz ...,LOADc 0,LOAD,LOADc 1,LOAD,ADD,LOADc 0,STORE,POP,LOADc 1,LOAD,LOADc 1,ADD,LOADc 1,STORE,POP,JUMP ...] }\n",
       "{ stack = [1,1,1000]\n",
       " , code = [LOADc 5,LE,JUMPz ...,LOADc 0,LOAD,LOADc 1,LOAD,ADD,LOADc 0,STORE,POP,LOADc 1,LOAD,LOADc 1,ADD,LOADc 1,STORE,POP,JUMP ...] }\n",
       "{ stack = [5,1,1,1000]\n",
       " , code = [LE,JUMPz ...,LOADc 0,LOAD,LOADc 1,LOAD,ADD,LOADc 0,STORE,POP,LOADc 1,LOAD,LOADc 1,ADD,LOADc 1,STORE,POP,JUMP ...] }\n",
       "{ stack = [1,1,1000]\n",
       " , code = [JUMPz ...,LOADc 0,LOAD,LOADc 1,LOAD,ADD,LOADc 0,STORE,POP,LOADc 1,LOAD,LOADc 1,ADD,LOADc 1,STORE,POP,JUMP ...] }\n",
       "{ stack = [1,1000]\n",
       " , code = [LOADc 0,LOAD,LOADc 1,LOAD,ADD,LOADc 0,STORE,POP,LOADc 1,LOAD,LOADc 1,ADD,LOADc 1,STORE,POP,JUMP ...] }\n",
       "{ stack = [0,1,1000]\n",
       " , code = [LOAD,LOADc 1,LOAD,ADD,LOADc 0,STORE,POP,LOADc 1,LOAD,LOADc 1,ADD,LOADc 1,STORE,POP,JUMP ...] }\n",
       "{ stack = [1000,1,1000]\n",
       " , code = [LOADc 1,LOAD,ADD,LOADc 0,STORE,POP,LOADc 1,LOAD,LOADc 1,ADD,LOADc 1,STORE,POP,JUMP ...] }\n",
       "{ stack = [1,1000,1,1000]\n",
       " , code = [LOAD,ADD,LOADc 0,STORE,POP,LOADc 1,LOAD,LOADc 1,ADD,LOADc 1,STORE,POP,JUMP ...] }\n",
       "{ stack = [1,1000,1,1000]\n",
       " , code = [ADD,LOADc 0,STORE,POP,LOADc 1,LOAD,LOADc 1,ADD,LOADc 1,STORE,POP,JUMP ...] }\n",
       "{ stack = [1001,1,1000]\n",
       " , code = [LOADc 0,STORE,POP,LOADc 1,LOAD,LOADc 1,ADD,LOADc 1,STORE,POP,JUMP ...] }\n",
       "{ stack = [0,1001,1,1000]\n",
       " , code = [STORE,POP,LOADc 1,LOAD,LOADc 1,ADD,LOADc 1,STORE,POP,JUMP ...] }\n",
       "{ stack = [1001,1,1001]\n",
       " , code = [POP,LOADc 1,LOAD,LOADc 1,ADD,LOADc 1,STORE,POP,JUMP ...] }\n",
       "{ stack = [1,1001]\n",
       " , code = [LOADc 1,LOAD,LOADc 1,ADD,LOADc 1,STORE,POP,JUMP ...] }\n",
       "{ stack = [1,1,1001]\n",
       " , code = [LOAD,LOADc 1,ADD,LOADc 1,STORE,POP,JUMP ...] }\n",
       "{ stack = [1,1,1001]\n",
       " , code = [LOADc 1,ADD,LOADc 1,STORE,POP,JUMP ...] }\n",
       "{ stack = [1,1,1,1001]\n",
       " , code = [ADD,LOADc 1,STORE,POP,JUMP ...] }\n",
       "{ stack = [2,1,1001]\n",
       " , code = [LOADc 1,STORE,POP,JUMP ...] }\n",
       "{ stack = [1,2,1,1001]\n",
       " , code = [STORE,POP,JUMP ...] }\n",
       "{ stack = [2,2,1001]\n",
       " , code = [POP,JUMP ...] }\n",
       "{ stack = [2,1001]\n",
       " , code = [JUMP ...] }\n",
       "{ stack = [2,1001]\n",
       " , code = [LOADc 1,LOAD,LOADc 5,LE,JUMPz ...,LOADc 0,LOAD,LOADc 1,LOAD,ADD,LOADc 0,STORE,POP,LOADc 1,LOAD,LOADc 1,ADD,LOADc 1,STORE,POP,JUMP ...] }\n",
       "{ stack = [1,2,1001]\n",
       " , code = [LOAD,LOADc 5,LE,JUMPz ...,LOADc 0,LOAD,LOADc 1,LOAD,ADD,LOADc 0,STORE,POP,LOADc 1,LOAD,LOADc 1,ADD,LOADc 1,STORE,POP,JUMP ...] }\n",
       "{ stack = [2,2,1001]\n",
       " , code = [LOADc 5,LE,JUMPz ...,LOADc 0,LOAD,LOADc 1,LOAD,ADD,LOADc 0,STORE,POP,LOADc 1,LOAD,LOADc 1,ADD,LOADc 1,STORE,POP,JUMP ...] }\n",
       "{ stack = [5,2,2,1001]\n",
       " , code = [LE,JUMPz ...,LOADc 0,LOAD,LOADc 1,LOAD,ADD,LOADc 0,STORE,POP,LOADc 1,LOAD,LOADc 1,ADD,LOADc 1,STORE,POP,JUMP ...] }\n",
       "{ stack = [1,2,1001]\n",
       " , code = [JUMPz ...,LOADc 0,LOAD,LOADc 1,LOAD,ADD,LOADc 0,STORE,POP,LOADc 1,LOAD,LOADc 1,ADD,LOADc 1,STORE,POP,JUMP ...] }\n",
       "{ stack = [2,1001]\n",
       " , code = [LOADc 0,LOAD,LOADc 1,LOAD,ADD,LOADc 0,STORE,POP,LOADc 1,LOAD,LOADc 1,ADD,LOADc 1,STORE,POP,JUMP ...] }\n",
       "{ stack = [0,2,1001]\n",
       " , code = [LOAD,LOADc 1,LOAD,ADD,LOADc 0,STORE,POP,LOADc 1,LOAD,LOADc 1,ADD,LOADc 1,STORE,POP,JUMP ...] }\n",
       "{ stack = [1001,2,1001]\n",
       " , code = [LOADc 1,LOAD,ADD,LOADc 0,STORE,POP,LOADc 1,LOAD,LOADc 1,ADD,LOADc 1,STORE,POP,JUMP ...] }\n",
       "{ stack = [1,1001,2,1001]\n",
       " , code = [LOAD,ADD,LOADc 0,STORE,POP,LOADc 1,LOAD,LOADc 1,ADD,LOADc 1,STORE,POP,JUMP ...] }\n",
       "{ stack = [2,1001,2,1001]\n",
       " , code = [ADD,LOADc 0,STORE,POP,LOADc 1,LOAD,LOADc 1,ADD,LOADc 1,STORE,POP,JUMP ...] }\n",
       "{ stack = [1003,2,1001]\n",
       " , code = [LOADc 0,STORE,POP,LOADc 1,LOAD,LOADc 1,ADD,LOADc 1,STORE,POP,JUMP ...] }\n",
       "{ stack = [0,1003,2,1001]\n",
       " , code = [STORE,POP,LOADc 1,LOAD,LOADc 1,ADD,LOADc 1,STORE,POP,JUMP ...] }\n",
       "{ stack = [1003,2,1003]\n",
       " , code = [POP,LOADc 1,LOAD,LOADc 1,ADD,LOADc 1,STORE,POP,JUMP ...] }\n",
       "{ stack = [2,1003]\n",
       " , code = [LOADc 1,LOAD,LOADc 1,ADD,LOADc 1,STORE,POP,JUMP ...] }\n",
       "{ stack = [1,2,1003]\n",
       " , code = [LOAD,LOADc 1,ADD,LOADc 1,STORE,POP,JUMP ...] }\n",
       "{ stack = [2,2,1003]\n",
       " , code = [LOADc 1,ADD,LOADc 1,STORE,POP,JUMP ...] }\n",
       "{ stack = [1,2,2,1003]\n",
       " , code = [ADD,LOADc 1,STORE,POP,JUMP ...] }\n",
       "{ stack = [3,2,1003]\n",
       " , code = [LOADc 1,STORE,POP,JUMP ...] }\n",
       "{ stack = [1,3,2,1003]\n",
       " , code = [STORE,POP,JUMP ...] }\n",
       "{ stack = [3,3,1003]\n",
       " , code = [POP,JUMP ...] }\n",
       "{ stack = [3,1003]\n",
       " , code = [JUMP ...] }\n",
       "{ stack = [3,1003]\n",
       " , code = [LOADc 1,LOAD,LOADc 5,LE,JUMPz ...,LOADc 0,LOAD,LOADc 1,LOAD,ADD,LOADc 0,STORE,POP,LOADc 1,LOAD,LOADc 1,ADD,LOADc 1,STORE,POP,JUMP ...] }\n",
       "{ stack = [1,3,1003]\n",
       " , code = [LOAD,LOADc 5,LE,JUMPz ...,LOADc 0,LOAD,LOADc 1,LOAD,ADD,LOADc 0,STORE,POP,LOADc 1,LOAD,LOADc 1,ADD,LOADc 1,STORE,POP,JUMP ...] }\n",
       "{ stack = [3,3,1003]\n",
       " , code = [LOADc 5,LE,JUMPz ...,LOADc 0,LOAD,LOADc 1,LOAD,ADD,LOADc 0,STORE,POP,LOADc 1,LOAD,LOADc 1,ADD,LOADc 1,STORE,POP,JUMP ...] }\n",
       "{ stack = [5,3,3,1003]\n",
       " , code = [LE,JUMPz ...,LOADc 0,LOAD,LOADc 1,LOAD,ADD,LOADc 0,STORE,POP,LOADc 1,LOAD,LOADc 1,ADD,LOADc 1,STORE,POP,JUMP ...] }\n",
       "{ stack = [1,3,1003]\n",
       " , code = [JUMPz ...,LOADc 0,LOAD,LOADc 1,LOAD,ADD,LOADc 0,STORE,POP,LOADc 1,LOAD,LOADc 1,ADD,LOADc 1,STORE,POP,JUMP ...] }\n",
       "{ stack = [3,1003]\n",
       " , code = [LOADc 0,LOAD,LOADc 1,LOAD,ADD,LOADc 0,STORE,POP,LOADc 1,LOAD,LOADc 1,ADD,LOADc 1,STORE,POP,JUMP ...] }\n",
       "{ stack = [0,3,1003]\n",
       " , code = [LOAD,LOADc 1,LOAD,ADD,LOADc 0,STORE,POP,LOADc 1,LOAD,LOADc 1,ADD,LOADc 1,STORE,POP,JUMP ...] }\n",
       "{ stack = [1003,3,1003]\n",
       " , code = [LOADc 1,LOAD,ADD,LOADc 0,STORE,POP,LOADc 1,LOAD,LOADc 1,ADD,LOADc 1,STORE,POP,JUMP ...] }\n",
       "{ stack = [1,1003,3,1003]\n",
       " , code = [LOAD,ADD,LOADc 0,STORE,POP,LOADc 1,LOAD,LOADc 1,ADD,LOADc 1,STORE,POP,JUMP ...] }\n",
       "{ stack = [3,1003,3,1003]\n",
       " , code = [ADD,LOADc 0,STORE,POP,LOADc 1,LOAD,LOADc 1,ADD,LOADc 1,STORE,POP,JUMP ...] }\n",
       "{ stack = [1006,3,1003]\n",
       " , code = [LOADc 0,STORE,POP,LOADc 1,LOAD,LOADc 1,ADD,LOADc 1,STORE,POP,JUMP ...] }\n",
       "{ stack = [0,1006,3,1003]\n",
       " , code = [STORE,POP,LOADc 1,LOAD,LOADc 1,ADD,LOADc 1,STORE,POP,JUMP ...] }\n",
       "{ stack = [1006,3,1006]\n",
       " , code = [POP,LOADc 1,LOAD,LOADc 1,ADD,LOADc 1,STORE,POP,JUMP ...] }\n",
       "{ stack = [3,1006]\n",
       " , code = [LOADc 1,LOAD,LOADc 1,ADD,LOADc 1,STORE,POP,JUMP ...] }\n",
       "{ stack = [1,3,1006]\n",
       " , code = [LOAD,LOADc 1,ADD,LOADc 1,STORE,POP,JUMP ...] }\n",
       "{ stack = [3,3,1006]\n",
       " , code = [LOADc 1,ADD,LOADc 1,STORE,POP,JUMP ...] }\n",
       "{ stack = [1,3,3,1006]\n",
       " , code = [ADD,LOADc 1,STORE,POP,JUMP ...] }\n",
       "{ stack = [4,3,1006]\n",
       " , code = [LOADc 1,STORE,POP,JUMP ...] }\n",
       "{ stack = [1,4,3,1006]\n",
       " , code = [STORE,POP,JUMP ...] }\n",
       "{ stack = [4,4,1006]\n",
       " , code = [POP,JUMP ...] }\n",
       "{ stack = [4,1006]\n",
       " , code = [JUMP ...] }\n",
       "{ stack = [4,1006]\n",
       " , code = [LOADc 1,LOAD,LOADc 5,LE,JUMPz ...,LOADc 0,LOAD,LOADc 1,LOAD,ADD,LOADc 0,STORE,POP,LOADc 1,LOAD,LOADc 1,ADD,LOADc 1,STORE,POP,JUMP ...] }\n",
       "{ stack = [1,4,1006]\n",
       " , code = [LOAD,LOADc 5,LE,JUMPz ...,LOADc 0,LOAD,LOADc 1,LOAD,ADD,LOADc 0,STORE,POP,LOADc 1,LOAD,LOADc 1,ADD,LOADc 1,STORE,POP,JUMP ...] }\n",
       "{ stack = [4,4,1006]\n",
       " , code = [LOADc 5,LE,JUMPz ...,LOADc 0,LOAD,LOADc 1,LOAD,ADD,LOADc 0,STORE,POP,LOADc 1,LOAD,LOADc 1,ADD,LOADc 1,STORE,POP,JUMP ...] }\n",
       "{ stack = [5,4,4,1006]\n",
       " , code = [LE,JUMPz ...,LOADc 0,LOAD,LOADc 1,LOAD,ADD,LOADc 0,STORE,POP,LOADc 1,LOAD,LOADc 1,ADD,LOADc 1,STORE,POP,JUMP ...] }\n",
       "{ stack = [1,4,1006]\n",
       " , code = [JUMPz ...,LOADc 0,LOAD,LOADc 1,LOAD,ADD,LOADc 0,STORE,POP,LOADc 1,LOAD,LOADc 1,ADD,LOADc 1,STORE,POP,JUMP ...] }\n",
       "{ stack = [4,1006]\n",
       " , code = [LOADc 0,LOAD,LOADc 1,LOAD,ADD,LOADc 0,STORE,POP,LOADc 1,LOAD,LOADc 1,ADD,LOADc 1,STORE,POP,JUMP ...] }\n",
       "{ stack = [0,4,1006]\n",
       " , code = [LOAD,LOADc 1,LOAD,ADD,LOADc 0,STORE,POP,LOADc 1,LOAD,LOADc 1,ADD,LOADc 1,STORE,POP,JUMP ...] }\n",
       "{ stack = [1006,4,1006]\n",
       " , code = [LOADc 1,LOAD,ADD,LOADc 0,STORE,POP,LOADc 1,LOAD,LOADc 1,ADD,LOADc 1,STORE,POP,JUMP ...] }\n",
       "{ stack = [1,1006,4,1006]\n",
       " , code = [LOAD,ADD,LOADc 0,STORE,POP,LOADc 1,LOAD,LOADc 1,ADD,LOADc 1,STORE,POP,JUMP ...] }\n",
       "{ stack = [4,1006,4,1006]\n",
       " , code = [ADD,LOADc 0,STORE,POP,LOADc 1,LOAD,LOADc 1,ADD,LOADc 1,STORE,POP,JUMP ...] }\n",
       "{ stack = [1010,4,1006]\n",
       " , code = [LOADc 0,STORE,POP,LOADc 1,LOAD,LOADc 1,ADD,LOADc 1,STORE,POP,JUMP ...] }\n",
       "{ stack = [0,1010,4,1006]\n",
       " , code = [STORE,POP,LOADc 1,LOAD,LOADc 1,ADD,LOADc 1,STORE,POP,JUMP ...] }\n",
       "{ stack = [1010,4,1010]\n",
       " , code = [POP,LOADc 1,LOAD,LOADc 1,ADD,LOADc 1,STORE,POP,JUMP ...] }\n",
       "{ stack = [4,1010]\n",
       " , code = [LOADc 1,LOAD,LOADc 1,ADD,LOADc 1,STORE,POP,JUMP ...] }\n",
       "{ stack = [1,4,1010]\n",
       " , code = [LOAD,LOADc 1,ADD,LOADc 1,STORE,POP,JUMP ...] }\n",
       "{ stack = [4,4,1010]\n",
       " , code = [LOADc 1,ADD,LOADc 1,STORE,POP,JUMP ...] }\n",
       "{ stack = [1,4,4,1010]\n",
       " , code = [ADD,LOADc 1,STORE,POP,JUMP ...] }\n",
       "{ stack = [5,4,1010]\n",
       " , code = [LOADc 1,STORE,POP,JUMP ...] }\n",
       "{ stack = [1,5,4,1010]\n",
       " , code = [STORE,POP,JUMP ...] }\n",
       "{ stack = [5,5,1010]\n",
       " , code = [POP,JUMP ...] }\n",
       "{ stack = [5,1010]\n",
       " , code = [JUMP ...] }\n",
       "{ stack = [5,1010]\n",
       " , code = [LOADc 1,LOAD,LOADc 5,LE,JUMPz ...,LOADc 0,LOAD,LOADc 1,LOAD,ADD,LOADc 0,STORE,POP,LOADc 1,LOAD,LOADc 1,ADD,LOADc 1,STORE,POP,JUMP ...] }\n",
       "{ stack = [1,5,1010]\n",
       " , code = [LOAD,LOADc 5,LE,JUMPz ...,LOADc 0,LOAD,LOADc 1,LOAD,ADD,LOADc 0,STORE,POP,LOADc 1,LOAD,LOADc 1,ADD,LOADc 1,STORE,POP,JUMP ...] }\n",
       "{ stack = [5,5,1010]\n",
       " , code = [LOADc 5,LE,JUMPz ...,LOADc 0,LOAD,LOADc 1,LOAD,ADD,LOADc 0,STORE,POP,LOADc 1,LOAD,LOADc 1,ADD,LOADc 1,STORE,POP,JUMP ...] }\n",
       "{ stack = [5,5,5,1010]\n",
       " , code = [LE,JUMPz ...,LOADc 0,LOAD,LOADc 1,LOAD,ADD,LOADc 0,STORE,POP,LOADc 1,LOAD,LOADc 1,ADD,LOADc 1,STORE,POP,JUMP ...] }\n",
       "{ stack = [0,5,1010]\n",
       " , code = [JUMPz ...,LOADc 0,LOAD,LOADc 1,LOAD,ADD,LOADc 0,STORE,POP,LOADc 1,LOAD,LOADc 1,ADD,LOADc 1,STORE,POP,JUMP ...] }\n",
       "{ stack = [5,1010]\n",
       " , code = [] }"
      ]
     },
     "metadata": {},
     "output_type": "display_data"
    }
   ],
   "source": [
    "mapM_ print $ exec (is4, [0,0])"
   ]
  },
  {
   "cell_type": "code",
   "execution_count": 39,
   "metadata": {},
   "outputs": [
    {
     "data": {
      "text/plain": [
       "{ stack = [5,1010]\n",
       " , code = [] }"
      ]
     },
     "metadata": {},
     "output_type": "display_data"
    }
   ],
   "source": [
    "run (is4, [0,0])"
   ]
  },
  {
   "cell_type": "markdown",
   "metadata": {},
   "source": [
    "<br>\n",
    "\n",
    "지금 작성한 컴파일러는 문제가 있다.\n",
    "지금까지 작성한 간단한 프로그램은 예제들은 돌아가지만 있었지만 일반적으로 제대로 돌아가는 코드로 컴파일되지는 않는다.\n",
    "\n",
    "힌트: 문(statement)을 컴파일하는 `code` 함수에서 문제점을 찾아보라."
   ]
  },
  {
   "cell_type": "markdown",
   "metadata": {},
   "source": [
    "```c\n",
    "i <- 1;\n",
    "while (i < 5)\n",
    "    i <- i + 1;\n",
    "i <- i + 1;\n",
    "```"
   ]
  },
  {
   "cell_type": "code",
   "execution_count": 82,
   "metadata": {},
   "outputs": [],
   "source": [
    "stmt5 = Block \n",
    "    [ EStmt $ Assign (Var \"i\") (Lit 1)                    -- x <- 1;\n",
    "    , While (Le (Var \"i\") (Lit 5)) $                      -- while (i < 5)\n",
    "        EStmt $ Assign (Var \"i\") (Add (Var \"i\") (Lit 1))  --     i <- i + 1;\n",
    "    , EStmt $ Assign (Var \"i\") (Add (Var \"i\") (Lit 1))    -- i <- i + 1;\n",
    "    ]"
   ]
  },
  {
   "cell_type": "code",
   "execution_count": 83,
   "metadata": {},
   "outputs": [],
   "source": [
    "is5 = code stmt5 (Map.fromList [(\"i\",0)])"
   ]
  },
  {
   "cell_type": "code",
   "execution_count": 84,
   "metadata": {},
   "outputs": [
    {
     "data": {
      "text/plain": [
       "[LOADc 1,LOADc 0,STORE,POP,LOADc 0,LOAD,LOADc 5,LE,JUMPz ...,LOADc 0,LOAD,LOADc 1,ADD,LOADc 0,STORE,POP,JUMP ...,LOADc 0,LOAD,LOADc 1,ADD,LOADc 0,STORE,POP]"
      ]
     },
     "metadata": {},
     "output_type": "display_data"
    }
   ],
   "source": [
    "is5"
   ]
  },
  {
   "cell_type": "code",
   "execution_count": 85,
   "metadata": {},
   "outputs": [
    {
     "data": {
      "text/plain": [
       "{ stack = [0]\n",
       " , code = [LOADc 1,LOADc 0,STORE,POP,LOADc 0,LOAD,LOADc 5,LE,JUMPz ...,LOADc 0,LOAD,LOADc 1,ADD,LOADc 0,STORE,POP,JUMP ...,LOADc 0,LOAD,LOADc 1,ADD,LOADc 0,STORE,POP] }\n",
       "{ stack = [1,0]\n",
       " , code = [LOADc 0,STORE,POP,LOADc 0,LOAD,LOADc 5,LE,JUMPz ...,LOADc 0,LOAD,LOADc 1,ADD,LOADc 0,STORE,POP,JUMP ...,LOADc 0,LOAD,LOADc 1,ADD,LOADc 0,STORE,POP] }\n",
       "{ stack = [0,1,0]\n",
       " , code = [STORE,POP,LOADc 0,LOAD,LOADc 5,LE,JUMPz ...,LOADc 0,LOAD,LOADc 1,ADD,LOADc 0,STORE,POP,JUMP ...,LOADc 0,LOAD,LOADc 1,ADD,LOADc 0,STORE,POP] }\n",
       "{ stack = [1,1]\n",
       " , code = [POP,LOADc 0,LOAD,LOADc 5,LE,JUMPz ...,LOADc 0,LOAD,LOADc 1,ADD,LOADc 0,STORE,POP,JUMP ...,LOADc 0,LOAD,LOADc 1,ADD,LOADc 0,STORE,POP] }\n",
       "{ stack = [1]\n",
       " , code = [LOADc 0,LOAD,LOADc 5,LE,JUMPz ...,LOADc 0,LOAD,LOADc 1,ADD,LOADc 0,STORE,POP,JUMP ...,LOADc 0,LOAD,LOADc 1,ADD,LOADc 0,STORE,POP] }\n",
       "{ stack = [0,1]\n",
       " , code = [LOAD,LOADc 5,LE,JUMPz ...,LOADc 0,LOAD,LOADc 1,ADD,LOADc 0,STORE,POP,JUMP ...,LOADc 0,LOAD,LOADc 1,ADD,LOADc 0,STORE,POP] }\n",
       "{ stack = [1,1]\n",
       " , code = [LOADc 5,LE,JUMPz ...,LOADc 0,LOAD,LOADc 1,ADD,LOADc 0,STORE,POP,JUMP ...,LOADc 0,LOAD,LOADc 1,ADD,LOADc 0,STORE,POP] }\n",
       "{ stack = [5,1,1]\n",
       " , code = [LE,JUMPz ...,LOADc 0,LOAD,LOADc 1,ADD,LOADc 0,STORE,POP,JUMP ...,LOADc 0,LOAD,LOADc 1,ADD,LOADc 0,STORE,POP] }\n",
       "{ stack = [1,1]\n",
       " , code = [JUMPz ...,LOADc 0,LOAD,LOADc 1,ADD,LOADc 0,STORE,POP,JUMP ...,LOADc 0,LOAD,LOADc 1,ADD,LOADc 0,STORE,POP] }\n",
       "{ stack = [1]\n",
       " , code = [LOADc 0,LOAD,LOADc 1,ADD,LOADc 0,STORE,POP,JUMP ...,LOADc 0,LOAD,LOADc 1,ADD,LOADc 0,STORE,POP] }\n",
       "{ stack = [0,1]\n",
       " , code = [LOAD,LOADc 1,ADD,LOADc 0,STORE,POP,JUMP ...,LOADc 0,LOAD,LOADc 1,ADD,LOADc 0,STORE,POP] }\n",
       "{ stack = [1,1]\n",
       " , code = [LOADc 1,ADD,LOADc 0,STORE,POP,JUMP ...,LOADc 0,LOAD,LOADc 1,ADD,LOADc 0,STORE,POP] }\n",
       "{ stack = [1,1,1]\n",
       " , code = [ADD,LOADc 0,STORE,POP,JUMP ...,LOADc 0,LOAD,LOADc 1,ADD,LOADc 0,STORE,POP] }\n",
       "{ stack = [2,1]\n",
       " , code = [LOADc 0,STORE,POP,JUMP ...,LOADc 0,LOAD,LOADc 1,ADD,LOADc 0,STORE,POP] }\n",
       "{ stack = [0,2,1]\n",
       " , code = [STORE,POP,JUMP ...,LOADc 0,LOAD,LOADc 1,ADD,LOADc 0,STORE,POP] }\n",
       "{ stack = [2,2]\n",
       " , code = [POP,JUMP ...,LOADc 0,LOAD,LOADc 1,ADD,LOADc 0,STORE,POP] }\n",
       "{ stack = [2]\n",
       " , code = [JUMP ...,LOADc 0,LOAD,LOADc 1,ADD,LOADc 0,STORE,POP] }\n",
       "{ stack = [2]\n",
       " , code = [LOADc 0,LOAD,LOADc 5,LE,JUMPz ...,LOADc 0,LOAD,LOADc 1,ADD,LOADc 0,STORE,POP,JUMP ...] }\n",
       "{ stack = [0,2]\n",
       " , code = [LOAD,LOADc 5,LE,JUMPz ...,LOADc 0,LOAD,LOADc 1,ADD,LOADc 0,STORE,POP,JUMP ...] }\n",
       "{ stack = [2,2]\n",
       " , code = [LOADc 5,LE,JUMPz ...,LOADc 0,LOAD,LOADc 1,ADD,LOADc 0,STORE,POP,JUMP ...] }\n",
       "{ stack = [5,2,2]\n",
       " , code = [LE,JUMPz ...,LOADc 0,LOAD,LOADc 1,ADD,LOADc 0,STORE,POP,JUMP ...] }\n",
       "{ stack = [1,2]\n",
       " , code = [JUMPz ...,LOADc 0,LOAD,LOADc 1,ADD,LOADc 0,STORE,POP,JUMP ...] }\n",
       "{ stack = [2]\n",
       " , code = [LOADc 0,LOAD,LOADc 1,ADD,LOADc 0,STORE,POP,JUMP ...] }\n",
       "{ stack = [0,2]\n",
       " , code = [LOAD,LOADc 1,ADD,LOADc 0,STORE,POP,JUMP ...] }\n",
       "{ stack = [2,2]\n",
       " , code = [LOADc 1,ADD,LOADc 0,STORE,POP,JUMP ...] }\n",
       "{ stack = [1,2,2]\n",
       " , code = [ADD,LOADc 0,STORE,POP,JUMP ...] }\n",
       "{ stack = [3,2]\n",
       " , code = [LOADc 0,STORE,POP,JUMP ...] }\n",
       "{ stack = [0,3,2]\n",
       " , code = [STORE,POP,JUMP ...] }\n",
       "{ stack = [3,3]\n",
       " , code = [POP,JUMP ...] }\n",
       "{ stack = [3]\n",
       " , code = [JUMP ...] }\n",
       "{ stack = [3]\n",
       " , code = [LOADc 0,LOAD,LOADc 5,LE,JUMPz ...,LOADc 0,LOAD,LOADc 1,ADD,LOADc 0,STORE,POP,JUMP ...] }\n",
       "{ stack = [0,3]\n",
       " , code = [LOAD,LOADc 5,LE,JUMPz ...,LOADc 0,LOAD,LOADc 1,ADD,LOADc 0,STORE,POP,JUMP ...] }\n",
       "{ stack = [3,3]\n",
       " , code = [LOADc 5,LE,JUMPz ...,LOADc 0,LOAD,LOADc 1,ADD,LOADc 0,STORE,POP,JUMP ...] }\n",
       "{ stack = [5,3,3]\n",
       " , code = [LE,JUMPz ...,LOADc 0,LOAD,LOADc 1,ADD,LOADc 0,STORE,POP,JUMP ...] }\n",
       "{ stack = [1,3]\n",
       " , code = [JUMPz ...,LOADc 0,LOAD,LOADc 1,ADD,LOADc 0,STORE,POP,JUMP ...] }\n",
       "{ stack = [3]\n",
       " , code = [LOADc 0,LOAD,LOADc 1,ADD,LOADc 0,STORE,POP,JUMP ...] }\n",
       "{ stack = [0,3]\n",
       " , code = [LOAD,LOADc 1,ADD,LOADc 0,STORE,POP,JUMP ...] }\n",
       "{ stack = [3,3]\n",
       " , code = [LOADc 1,ADD,LOADc 0,STORE,POP,JUMP ...] }\n",
       "{ stack = [1,3,3]\n",
       " , code = [ADD,LOADc 0,STORE,POP,JUMP ...] }\n",
       "{ stack = [4,3]\n",
       " , code = [LOADc 0,STORE,POP,JUMP ...] }\n",
       "{ stack = [0,4,3]\n",
       " , code = [STORE,POP,JUMP ...] }\n",
       "{ stack = [4,4]\n",
       " , code = [POP,JUMP ...] }\n",
       "{ stack = [4]\n",
       " , code = [JUMP ...] }\n",
       "{ stack = [4]\n",
       " , code = [LOADc 0,LOAD,LOADc 5,LE,JUMPz ...,LOADc 0,LOAD,LOADc 1,ADD,LOADc 0,STORE,POP,JUMP ...] }\n",
       "{ stack = [0,4]\n",
       " , code = [LOAD,LOADc 5,LE,JUMPz ...,LOADc 0,LOAD,LOADc 1,ADD,LOADc 0,STORE,POP,JUMP ...] }\n",
       "{ stack = [4,4]\n",
       " , code = [LOADc 5,LE,JUMPz ...,LOADc 0,LOAD,LOADc 1,ADD,LOADc 0,STORE,POP,JUMP ...] }\n",
       "{ stack = [5,4,4]\n",
       " , code = [LE,JUMPz ...,LOADc 0,LOAD,LOADc 1,ADD,LOADc 0,STORE,POP,JUMP ...] }\n",
       "{ stack = [1,4]\n",
       " , code = [JUMPz ...,LOADc 0,LOAD,LOADc 1,ADD,LOADc 0,STORE,POP,JUMP ...] }\n",
       "{ stack = [4]\n",
       " , code = [LOADc 0,LOAD,LOADc 1,ADD,LOADc 0,STORE,POP,JUMP ...] }\n",
       "{ stack = [0,4]\n",
       " , code = [LOAD,LOADc 1,ADD,LOADc 0,STORE,POP,JUMP ...] }\n",
       "{ stack = [4,4]\n",
       " , code = [LOADc 1,ADD,LOADc 0,STORE,POP,JUMP ...] }\n",
       "{ stack = [1,4,4]\n",
       " , code = [ADD,LOADc 0,STORE,POP,JUMP ...] }\n",
       "{ stack = [5,4]\n",
       " , code = [LOADc 0,STORE,POP,JUMP ...] }\n",
       "{ stack = [0,5,4]\n",
       " , code = [STORE,POP,JUMP ...] }\n",
       "{ stack = [5,5]\n",
       " , code = [POP,JUMP ...] }\n",
       "{ stack = [5]\n",
       " , code = [JUMP ...] }\n",
       "{ stack = [5]\n",
       " , code = [LOADc 0,LOAD,LOADc 5,LE,JUMPz ...,LOADc 0,LOAD,LOADc 1,ADD,LOADc 0,STORE,POP,JUMP ...] }\n",
       "{ stack = [0,5]\n",
       " , code = [LOAD,LOADc 5,LE,JUMPz ...,LOADc 0,LOAD,LOADc 1,ADD,LOADc 0,STORE,POP,JUMP ...] }\n",
       "{ stack = [5,5]\n",
       " , code = [LOADc 5,LE,JUMPz ...,LOADc 0,LOAD,LOADc 1,ADD,LOADc 0,STORE,POP,JUMP ...] }\n",
       "{ stack = [5,5,5]\n",
       " , code = [LE,JUMPz ...,LOADc 0,LOAD,LOADc 1,ADD,LOADc 0,STORE,POP,JUMP ...] }\n",
       "{ stack = [0,5]\n",
       " , code = [JUMPz ...,LOADc 0,LOAD,LOADc 1,ADD,LOADc 0,STORE,POP,JUMP ...] }\n",
       "{ stack = [5]\n",
       " , code = [] }"
      ]
     },
     "metadata": {},
     "output_type": "display_data"
    }
   ],
   "source": [
    "mapM_ print $ exec (is5, [0])"
   ]
  },
  {
   "cell_type": "code",
   "execution_count": null,
   "metadata": {},
   "outputs": [],
   "source": []
  }
 ],
 "metadata": {
  "kernelspec": {
   "display_name": "Haskell",
   "language": "haskell",
   "name": "haskell"
  },
  "language_info": {
   "codemirror_mode": "ihaskell",
   "file_extension": ".hs",
   "name": "haskell",
   "pygments_lexer": "Haskell",
   "version": "8.6.5"
  }
 },
 "nbformat": 4,
 "nbformat_minor": 4
}
